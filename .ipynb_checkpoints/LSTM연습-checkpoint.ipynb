{
 "cells": [
  {
   "cell_type": "markdown",
   "id": "bb950ba0-2938-4024-bb84-b8ea19efc517",
   "metadata": {},
   "source": [
    "# 기본 LSTM 코드"
   ]
  },
  {
   "cell_type": "code",
   "execution_count": null,
   "id": "89cd1eb4-6231-4a1c-8f16-c9819e8d93d3",
   "metadata": {},
   "outputs": [],
   "source": []
  }
 ],
 "metadata": {
  "kernelspec": {
   "display_name": "deep",
   "language": "python",
   "name": "deep"
  },
  "language_info": {
   "codemirror_mode": {
    "name": "ipython",
    "version": 3
   },
   "file_extension": ".py",
   "mimetype": "text/x-python",
   "name": "python",
   "nbconvert_exporter": "python",
   "pygments_lexer": "ipython3",
   "version": "3.10.13"
  }
 },
 "nbformat": 4,
 "nbformat_minor": 5
}
