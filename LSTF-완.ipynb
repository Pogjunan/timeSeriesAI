{
 "cells": [
  {
   "cell_type": "code",
   "execution_count": 1,
   "id": "6aa7df56-d669-4ed7-8ae0-79dc8c6a0b05",
   "metadata": {
    "tags": []
   },
   "outputs": [],
   "source": [
    "import pandas as pd\n",
    "import numpy as np\n",
    "import random\n",
    "import os\n",
    "\n",
    "from sklearn.preprocessing import MinMaxScaler\n",
    "from sklearn.preprocessing import LabelEncoder\n",
    "\n",
    "import torch\n",
    "import torch.nn as nn\n",
    "from torch.utils.data import Dataset, DataLoader \n",
    "\n",
    "from tqdm.auto import tqdm"
   ]
  },
  {
   "cell_type": "code",
   "execution_count": 3,
   "id": "fa927871-2348-4de0-80f1-1310bc5122c1",
   "metadata": {
    "tags": []
   },
   "outputs": [],
   "source": [
    "from DLinear import *"
   ]
  },
  {
   "cell_type": "code",
   "execution_count": 2,
   "id": "6b1a1af7-f2cf-4e7f-9406-38b3c21c92eb",
   "metadata": {
    "tags": []
   },
   "outputs": [],
   "source": [
    "train_df = pd.read_csv('./train.csv')\n",
    "test_df = pd.read_csv('./test.csv')\n",
    "sample_submission = pd.read_csv('./sample_submission.csv')"
   ]
  },
  {
   "cell_type": "code",
   "execution_count": 9,
   "id": "42384c36-64e1-4339-87a4-b9a64468b6c1",
   "metadata": {
    "tags": []
   },
   "outputs": [
    {
     "data": {
      "text/html": [
       "<div>\n",
       "<style scoped>\n",
       "    .dataframe tbody tr th:only-of-type {\n",
       "        vertical-align: middle;\n",
       "    }\n",
       "\n",
       "    .dataframe tbody tr th {\n",
       "        vertical-align: top;\n",
       "    }\n",
       "\n",
       "    .dataframe thead th {\n",
       "        text-align: right;\n",
       "    }\n",
       "</style>\n",
       "<table border=\"1\" class=\"dataframe\">\n",
       "  <thead>\n",
       "    <tr style=\"text-align: right;\">\n",
       "      <th></th>\n",
       "      <th>num_date_time</th>\n",
       "      <th>건물번호</th>\n",
       "      <th>일시</th>\n",
       "      <th>기온(C)</th>\n",
       "      <th>강수량(mm)</th>\n",
       "      <th>풍속(m/s)</th>\n",
       "      <th>습도(%)</th>\n",
       "      <th>전력소비량(kWh)</th>\n",
       "    </tr>\n",
       "  </thead>\n",
       "  <tbody>\n",
       "    <tr>\n",
       "      <th>0</th>\n",
       "      <td>1_20220601 00</td>\n",
       "      <td>1</td>\n",
       "      <td>20220601 00</td>\n",
       "      <td>18.6</td>\n",
       "      <td>NaN</td>\n",
       "      <td>0.9</td>\n",
       "      <td>42.0</td>\n",
       "      <td>1085.28</td>\n",
       "    </tr>\n",
       "    <tr>\n",
       "      <th>1</th>\n",
       "      <td>1_20220601 01</td>\n",
       "      <td>1</td>\n",
       "      <td>20220601 01</td>\n",
       "      <td>18.0</td>\n",
       "      <td>NaN</td>\n",
       "      <td>1.1</td>\n",
       "      <td>45.0</td>\n",
       "      <td>1047.36</td>\n",
       "    </tr>\n",
       "    <tr>\n",
       "      <th>2</th>\n",
       "      <td>1_20220601 02</td>\n",
       "      <td>1</td>\n",
       "      <td>20220601 02</td>\n",
       "      <td>17.7</td>\n",
       "      <td>NaN</td>\n",
       "      <td>1.5</td>\n",
       "      <td>45.0</td>\n",
       "      <td>974.88</td>\n",
       "    </tr>\n",
       "    <tr>\n",
       "      <th>3</th>\n",
       "      <td>1_20220601 03</td>\n",
       "      <td>1</td>\n",
       "      <td>20220601 03</td>\n",
       "      <td>16.7</td>\n",
       "      <td>NaN</td>\n",
       "      <td>1.4</td>\n",
       "      <td>48.0</td>\n",
       "      <td>953.76</td>\n",
       "    </tr>\n",
       "    <tr>\n",
       "      <th>4</th>\n",
       "      <td>1_20220601 04</td>\n",
       "      <td>1</td>\n",
       "      <td>20220601 04</td>\n",
       "      <td>18.4</td>\n",
       "      <td>NaN</td>\n",
       "      <td>2.8</td>\n",
       "      <td>43.0</td>\n",
       "      <td>986.40</td>\n",
       "    </tr>\n",
       "    <tr>\n",
       "      <th>...</th>\n",
       "      <td>...</td>\n",
       "      <td>...</td>\n",
       "      <td>...</td>\n",
       "      <td>...</td>\n",
       "      <td>...</td>\n",
       "      <td>...</td>\n",
       "      <td>...</td>\n",
       "      <td>...</td>\n",
       "    </tr>\n",
       "    <tr>\n",
       "      <th>203995</th>\n",
       "      <td>100_20220824 19</td>\n",
       "      <td>100</td>\n",
       "      <td>20220824 19</td>\n",
       "      <td>23.1</td>\n",
       "      <td>NaN</td>\n",
       "      <td>0.9</td>\n",
       "      <td>86.0</td>\n",
       "      <td>881.04</td>\n",
       "    </tr>\n",
       "    <tr>\n",
       "      <th>203996</th>\n",
       "      <td>100_20220824 20</td>\n",
       "      <td>100</td>\n",
       "      <td>20220824 20</td>\n",
       "      <td>22.4</td>\n",
       "      <td>NaN</td>\n",
       "      <td>1.3</td>\n",
       "      <td>86.0</td>\n",
       "      <td>798.96</td>\n",
       "    </tr>\n",
       "    <tr>\n",
       "      <th>203997</th>\n",
       "      <td>100_20220824 21</td>\n",
       "      <td>100</td>\n",
       "      <td>20220824 21</td>\n",
       "      <td>21.3</td>\n",
       "      <td>NaN</td>\n",
       "      <td>1.0</td>\n",
       "      <td>92.0</td>\n",
       "      <td>825.12</td>\n",
       "    </tr>\n",
       "    <tr>\n",
       "      <th>203998</th>\n",
       "      <td>100_20220824 22</td>\n",
       "      <td>100</td>\n",
       "      <td>20220824 22</td>\n",
       "      <td>21.0</td>\n",
       "      <td>NaN</td>\n",
       "      <td>0.3</td>\n",
       "      <td>94.0</td>\n",
       "      <td>640.08</td>\n",
       "    </tr>\n",
       "    <tr>\n",
       "      <th>203999</th>\n",
       "      <td>100_20220824 23</td>\n",
       "      <td>100</td>\n",
       "      <td>20220824 23</td>\n",
       "      <td>20.7</td>\n",
       "      <td>NaN</td>\n",
       "      <td>0.1</td>\n",
       "      <td>95.0</td>\n",
       "      <td>540.24</td>\n",
       "    </tr>\n",
       "  </tbody>\n",
       "</table>\n",
       "<p>204000 rows × 8 columns</p>\n",
       "</div>"
      ],
      "text/plain": [
       "          num_date_time  건물번호           일시  기온(C)  강수량(mm)  풍속(m/s)  습도(%)  \\\n",
       "0         1_20220601 00     1  20220601 00   18.6      NaN      0.9   42.0   \n",
       "1         1_20220601 01     1  20220601 01   18.0      NaN      1.1   45.0   \n",
       "2         1_20220601 02     1  20220601 02   17.7      NaN      1.5   45.0   \n",
       "3         1_20220601 03     1  20220601 03   16.7      NaN      1.4   48.0   \n",
       "4         1_20220601 04     1  20220601 04   18.4      NaN      2.8   43.0   \n",
       "...                 ...   ...          ...    ...      ...      ...    ...   \n",
       "203995  100_20220824 19   100  20220824 19   23.1      NaN      0.9   86.0   \n",
       "203996  100_20220824 20   100  20220824 20   22.4      NaN      1.3   86.0   \n",
       "203997  100_20220824 21   100  20220824 21   21.3      NaN      1.0   92.0   \n",
       "203998  100_20220824 22   100  20220824 22   21.0      NaN      0.3   94.0   \n",
       "203999  100_20220824 23   100  20220824 23   20.7      NaN      0.1   95.0   \n",
       "\n",
       "        전력소비량(kWh)  \n",
       "0          1085.28  \n",
       "1          1047.36  \n",
       "2           974.88  \n",
       "3           953.76  \n",
       "4           986.40  \n",
       "...            ...  \n",
       "203995      881.04  \n",
       "203996      798.96  \n",
       "203997      825.12  \n",
       "203998      640.08  \n",
       "203999      540.24  \n",
       "\n",
       "[204000 rows x 8 columns]"
      ]
     },
     "execution_count": 9,
     "metadata": {},
     "output_type": "execute_result"
    }
   ],
   "source": [
    "train_df.drop(['일조(hr)', '일사(MJ/m2)'], axis=1, inplace=True)\n",
    "train_df"
   ]
  },
  {
   "cell_type": "code",
   "execution_count": 10,
   "id": "0204cf37-d3be-4769-b541-048bd08f92fe",
   "metadata": {
    "tags": []
   },
   "outputs": [],
   "source": [
    "class LTSF_Linear(torch.nn.Module):\n",
    "    def __init__(self, window_size, forcast_size, individual, feature_size):\n",
    "        super(LTSF_Linear, self).__init__()\n",
    "        self.window_size = window_size\n",
    "        self.forcast_size = forcast_size\n",
    "        self.individual = individual\n",
    "        self.channels = feature_size\n",
    "        if self.individual:\n",
    "            self.Linear = torch.nn.ModuleList()\n",
    "            for i in range(self.channels):\n",
    "                self.Linear.append(torch.nn.Linear(self.window_size, self.forcast_size))\n",
    "        else:\n",
    "            self.Linear = torch.nn.Linear(self.window_size, self.forcast_size)\n",
    "\n",
    "    def forward(self, x):\n",
    "        if self.individual:\n",
    "            output = torch.zeros([x.size(0), self.forcast_size, x.size(2)],dtype=x.dtype).to(x.device)\n",
    "            for i in range(self.channels):\n",
    "                output[:,:,i] = self.Linear[i](x[:,:,i])\n",
    "            x = output\n",
    "        else:\n",
    "            x = self.Linear(x.permute(0,2,1)).permute(0,2,1)\n",
    "        return x\n",
    "def standardization(train_df, test_df, not_col, target):\n",
    "    train_df_ = train_df.copy()\n",
    "    test_df_ = test_df.copy()\n",
    "    col =  [col for col in list(train_df.columns) if col not in [not_col]]\n",
    "    mean_list = []\n",
    "    std_list = []\n",
    "    for x in col:\n",
    "        mean, std = train_df_.agg([\"mean\", \"std\"]).loc[:,x]\n",
    "        mean_list.append(mean)\n",
    "        std_list.append(std)\n",
    "        train_df_.loc[:, x] = (train_df_[x] - mean) / std\n",
    "        test_df_.loc[:, x] = (test_df_[x] - mean) / std\n",
    "    return train_df_, test_df_, mean_list[col.index(target)], std_list[col.index(target)]\n",
    "\n",
    "def time_slide_df(df, window_size, forcast_size, date, target):\n",
    "    df_ = df.copy()\n",
    "    data_list = []\n",
    "    dap_list = []\n",
    "    date_list = []\n",
    "    for idx in range(0, df_.shape[0]-window_size-forcast_size+1):\n",
    "        x = df_.loc[idx:idx+window_size-1, target].values.reshape(window_size, 1)\n",
    "        y = df_.loc[idx+window_size:idx+window_size+forcast_size-1, target].values\n",
    "        date_ = df_.loc[idx+window_size:idx+window_size+forcast_size-1, date].values\n",
    "        data_list.append(x)\n",
    "        dap_list.append(y)\n",
    "        date_list.append(date_)\n",
    "    return np.array(data_list, dtype='float32'), np.array(dap_list, dtype='float32'), np.array(date_list)\n",
    "\n",
    "class Data(Dataset):\n",
    "    def __init__(self, X, Y):\n",
    "        self.X = X\n",
    "        self.Y = Y\n",
    "\n",
    "    def __len__(self):\n",
    "        return len(self.Y)\n",
    "    \n",
    "    def __getitem__(self, idx):\n",
    "        return self.X[idx], self.Y[idx]\n",
    "        "
   ]
  },
  {
   "cell_type": "code",
   "execution_count": 11,
   "id": "6fc40a5e-1442-4f44-9f70-d7e927657f47",
   "metadata": {
    "tags": []
   },
   "outputs": [
    {
     "data": {
      "text/plain": [
       "DLinear.Model"
      ]
     },
     "execution_count": 11,
     "metadata": {},
     "output_type": "execute_result"
    }
   ],
   "source": [
    "Model"
   ]
  },
  {
   "cell_type": "code",
   "execution_count": 12,
   "id": "8f9d6cee-edfe-4d3b-a627-cd2f1b5a3997",
   "metadata": {
    "collapsed": true,
    "jupyter": {
     "outputs_hidden": true
    },
    "tags": []
   },
   "outputs": [
    {
     "name": "stdout",
     "output_type": "stream",
     "text": [
      "                  date_time  건물번호           일시  기온(C)  강수량(mm)  풍속(m/s)  \\\n",
      "0       2022-06-01 00:00:00     1  20220601 00   18.6      NaN      0.9   \n",
      "1       2022-06-01 01:00:00     1  20220601 01   18.0      NaN      1.1   \n",
      "2       2022-06-01 02:00:00     1  20220601 02   17.7      NaN      1.5   \n",
      "3       2022-06-01 03:00:00     1  20220601 03   16.7      NaN      1.4   \n",
      "4       2022-06-01 04:00:00     1  20220601 04   18.4      NaN      2.8   \n",
      "...                     ...   ...          ...    ...      ...      ...   \n",
      "203995  2022-08-24 19:00:00   100  20220824 19   23.1      NaN      0.9   \n",
      "203996  2022-08-24 20:00:00   100  20220824 20   22.4      NaN      1.3   \n",
      "203997  2022-08-24 21:00:00   100  20220824 21   21.3      NaN      1.0   \n",
      "203998  2022-08-24 22:00:00   100  20220824 22   21.0      NaN      0.3   \n",
      "203999  2022-08-24 23:00:00   100  20220824 23   20.7      NaN      0.1   \n",
      "\n",
      "        습도(%)  전력소비량(kWh)  \n",
      "0        42.0     1085.28  \n",
      "1        45.0     1047.36  \n",
      "2        45.0      974.88  \n",
      "3        48.0      953.76  \n",
      "4        43.0      986.40  \n",
      "...       ...         ...  \n",
      "203995   86.0      881.04  \n",
      "203996   86.0      798.96  \n",
      "203997   92.0      825.12  \n",
      "203998   94.0      640.08  \n",
      "203999   95.0      540.24  \n",
      "\n",
      "[204000 rows x 8 columns]\n"
     ]
    }
   ],
   "source": [
    "train_df.rename(columns={'num_date_time': 'date_time'}, inplace=True)\n",
    "train_df['date_time'] = train_df['date_time'].str.replace('.*_', '', regex=True)\n",
    "train_df['date_time'] = pd.to_datetime(train_df['date_time'], format='%Y%m%d %H')\n",
    "train_df['date_time'] = train_df['date_time'].dt.strftime('%Y-%m-%d %H:%M:%S')\n",
    "#train_df.set_index('date_time', inplace=True)\n",
    "#print(train_df)"
   ]
  },
  {
   "cell_type": "code",
   "execution_count": 15,
   "id": "5e9d5ca5-f669-4854-b9a9-77012f962ae0",
   "metadata": {
    "tags": []
   },
   "outputs": [
    {
     "data": {
      "text/html": [
       "<div>\n",
       "<style scoped>\n",
       "    .dataframe tbody tr th:only-of-type {\n",
       "        vertical-align: middle;\n",
       "    }\n",
       "\n",
       "    .dataframe tbody tr th {\n",
       "        vertical-align: top;\n",
       "    }\n",
       "\n",
       "    .dataframe thead th {\n",
       "        text-align: right;\n",
       "    }\n",
       "</style>\n",
       "<table border=\"1\" class=\"dataframe\">\n",
       "  <thead>\n",
       "    <tr style=\"text-align: right;\">\n",
       "      <th></th>\n",
       "      <th>date_time</th>\n",
       "      <th>건물번호</th>\n",
       "      <th>일시</th>\n",
       "      <th>기온(C)</th>\n",
       "      <th>강수량(mm)</th>\n",
       "      <th>풍속(m/s)</th>\n",
       "      <th>습도(%)</th>\n",
       "    </tr>\n",
       "  </thead>\n",
       "  <tbody>\n",
       "    <tr>\n",
       "      <th>0</th>\n",
       "      <td>2022-08-25 00:00:00</td>\n",
       "      <td>1</td>\n",
       "      <td>20220825 00</td>\n",
       "      <td>23.5</td>\n",
       "      <td>0.0</td>\n",
       "      <td>2.2</td>\n",
       "      <td>72</td>\n",
       "    </tr>\n",
       "    <tr>\n",
       "      <th>1</th>\n",
       "      <td>2022-08-25 01:00:00</td>\n",
       "      <td>1</td>\n",
       "      <td>20220825 01</td>\n",
       "      <td>23.0</td>\n",
       "      <td>0.0</td>\n",
       "      <td>0.9</td>\n",
       "      <td>72</td>\n",
       "    </tr>\n",
       "    <tr>\n",
       "      <th>2</th>\n",
       "      <td>2022-08-25 02:00:00</td>\n",
       "      <td>1</td>\n",
       "      <td>20220825 02</td>\n",
       "      <td>22.7</td>\n",
       "      <td>0.0</td>\n",
       "      <td>1.5</td>\n",
       "      <td>75</td>\n",
       "    </tr>\n",
       "    <tr>\n",
       "      <th>3</th>\n",
       "      <td>2022-08-25 03:00:00</td>\n",
       "      <td>1</td>\n",
       "      <td>20220825 03</td>\n",
       "      <td>22.1</td>\n",
       "      <td>0.0</td>\n",
       "      <td>1.3</td>\n",
       "      <td>78</td>\n",
       "    </tr>\n",
       "    <tr>\n",
       "      <th>4</th>\n",
       "      <td>2022-08-25 04:00:00</td>\n",
       "      <td>1</td>\n",
       "      <td>20220825 04</td>\n",
       "      <td>21.8</td>\n",
       "      <td>0.0</td>\n",
       "      <td>1.0</td>\n",
       "      <td>77</td>\n",
       "    </tr>\n",
       "    <tr>\n",
       "      <th>...</th>\n",
       "      <td>...</td>\n",
       "      <td>...</td>\n",
       "      <td>...</td>\n",
       "      <td>...</td>\n",
       "      <td>...</td>\n",
       "      <td>...</td>\n",
       "      <td>...</td>\n",
       "    </tr>\n",
       "    <tr>\n",
       "      <th>16795</th>\n",
       "      <td>2022-08-31 19:00:00</td>\n",
       "      <td>100</td>\n",
       "      <td>20220831 19</td>\n",
       "      <td>22.5</td>\n",
       "      <td>0.0</td>\n",
       "      <td>0.9</td>\n",
       "      <td>84</td>\n",
       "    </tr>\n",
       "    <tr>\n",
       "      <th>16796</th>\n",
       "      <td>2022-08-31 20:00:00</td>\n",
       "      <td>100</td>\n",
       "      <td>20220831 20</td>\n",
       "      <td>20.7</td>\n",
       "      <td>0.0</td>\n",
       "      <td>0.4</td>\n",
       "      <td>95</td>\n",
       "    </tr>\n",
       "    <tr>\n",
       "      <th>16797</th>\n",
       "      <td>2022-08-31 21:00:00</td>\n",
       "      <td>100</td>\n",
       "      <td>20220831 21</td>\n",
       "      <td>20.2</td>\n",
       "      <td>0.0</td>\n",
       "      <td>0.4</td>\n",
       "      <td>98</td>\n",
       "    </tr>\n",
       "    <tr>\n",
       "      <th>16798</th>\n",
       "      <td>2022-08-31 22:00:00</td>\n",
       "      <td>100</td>\n",
       "      <td>20220831 22</td>\n",
       "      <td>20.1</td>\n",
       "      <td>0.0</td>\n",
       "      <td>1.1</td>\n",
       "      <td>97</td>\n",
       "    </tr>\n",
       "    <tr>\n",
       "      <th>16799</th>\n",
       "      <td>2022-08-31 23:00:00</td>\n",
       "      <td>100</td>\n",
       "      <td>20220831 23</td>\n",
       "      <td>19.1</td>\n",
       "      <td>0.0</td>\n",
       "      <td>0.1</td>\n",
       "      <td>99</td>\n",
       "    </tr>\n",
       "  </tbody>\n",
       "</table>\n",
       "<p>16800 rows × 7 columns</p>\n",
       "</div>"
      ],
      "text/plain": [
       "                 date_time  건물번호           일시  기온(C)  강수량(mm)  풍속(m/s)  습도(%)\n",
       "0      2022-08-25 00:00:00     1  20220825 00   23.5      0.0      2.2     72\n",
       "1      2022-08-25 01:00:00     1  20220825 01   23.0      0.0      0.9     72\n",
       "2      2022-08-25 02:00:00     1  20220825 02   22.7      0.0      1.5     75\n",
       "3      2022-08-25 03:00:00     1  20220825 03   22.1      0.0      1.3     78\n",
       "4      2022-08-25 04:00:00     1  20220825 04   21.8      0.0      1.0     77\n",
       "...                    ...   ...          ...    ...      ...      ...    ...\n",
       "16795  2022-08-31 19:00:00   100  20220831 19   22.5      0.0      0.9     84\n",
       "16796  2022-08-31 20:00:00   100  20220831 20   20.7      0.0      0.4     95\n",
       "16797  2022-08-31 21:00:00   100  20220831 21   20.2      0.0      0.4     98\n",
       "16798  2022-08-31 22:00:00   100  20220831 22   20.1      0.0      1.1     97\n",
       "16799  2022-08-31 23:00:00   100  20220831 23   19.1      0.0      0.1     99\n",
       "\n",
       "[16800 rows x 7 columns]"
      ]
     },
     "execution_count": 15,
     "metadata": {},
     "output_type": "execute_result"
    }
   ],
   "source": [
    "test_df.rename(columns={'num_date_time': 'date_time'}, inplace=True)\n",
    "test_df['date_time'] = test_df['date_time'].str.replace('.*_', '', regex=True)\n",
    "test_df['date_time'] = pd.to_datetime(test_df['date_time'], format='%Y%m%d %H')\n",
    "test_df['date_time'] = test_df['date_time'].dt.strftime('%Y-%m-%d %H:%M:%S')\n",
    "#test_df.set_index('date_time', inplace=True)\n",
    "test_df"
   ]
  },
  {
   "cell_type": "code",
   "execution_count": 16,
   "id": "c8651b83-03e9-4084-8d67-622376098702",
   "metadata": {
    "tags": []
   },
   "outputs": [],
   "source": [
    "### Univariable ###\n",
    "### 데이터 셋 생성 ###\n",
    "window_size = 72\n",
    "forcast_size= 24\n",
    "batch_size = 32\n",
    "targets = '전력소비량(kWh)'\n",
    "date = 'date_time'"
   ]
  },
  {
   "cell_type": "code",
   "execution_count": 17,
   "id": "6797e52a-f0ad-404b-be26-5e567949f525",
   "metadata": {
    "tags": []
   },
   "outputs": [],
   "source": [
    "train_x, train_y, train_date = time_slide_df(train_df, window_size, forcast_size, date, targets)"
   ]
  },
  {
   "cell_type": "code",
   "execution_count": 18,
   "id": "a83afb91-82f6-4278-b4cd-18f88cbd1535",
   "metadata": {
    "collapsed": true,
    "jupyter": {
     "outputs_hidden": true
    },
    "tags": []
   },
   "outputs": [
    {
     "data": {
      "text/plain": [
       "array([[[1085.28],\n",
       "        [1047.36],\n",
       "        [ 974.88],\n",
       "        ...,\n",
       "        [1897.44],\n",
       "        [1560.48],\n",
       "        [1351.68]],\n",
       "\n",
       "       [[1047.36],\n",
       "        [ 974.88],\n",
       "        [ 953.76],\n",
       "        ...,\n",
       "        [1560.48],\n",
       "        [1351.68],\n",
       "        [1203.84]],\n",
       "\n",
       "       [[ 974.88],\n",
       "        [ 953.76],\n",
       "        [ 986.4 ],\n",
       "        ...,\n",
       "        [1351.68],\n",
       "        [1203.84],\n",
       "        [1119.36]],\n",
       "\n",
       "       ...,\n",
       "\n",
       "       [[ 850.8 ],\n",
       "        [ 660.48],\n",
       "        [ 473.28],\n",
       "        ...,\n",
       "        [ 959.76],\n",
       "        [ 890.64],\n",
       "        [ 789.6 ]],\n",
       "\n",
       "       [[ 660.48],\n",
       "        [ 473.28],\n",
       "        [ 419.76],\n",
       "        ...,\n",
       "        [ 890.64],\n",
       "        [ 789.6 ],\n",
       "        [ 737.76]],\n",
       "\n",
       "       [[ 473.28],\n",
       "        [ 419.76],\n",
       "        [ 396.72],\n",
       "        ...,\n",
       "        [ 789.6 ],\n",
       "        [ 737.76],\n",
       "        [ 610.32]]], dtype=float32)"
      ]
     },
     "execution_count": 18,
     "metadata": {},
     "output_type": "execute_result"
    }
   ],
   "source": [
    "train_x"
   ]
  },
  {
   "cell_type": "code",
   "execution_count": 19,
   "id": "83cc9ed0-ddbd-40cf-a88d-f36f66b3b6c4",
   "metadata": {
    "tags": []
   },
   "outputs": [
    {
     "data": {
      "text/plain": [
       "(203905, 72, 1)"
      ]
     },
     "execution_count": 19,
     "metadata": {},
     "output_type": "execute_result"
    }
   ],
   "source": [
    "train_x.shape"
   ]
  },
  {
   "cell_type": "code",
   "execution_count": 22,
   "id": "e555d946-faf9-4504-9faf-a076aea7ebf6",
   "metadata": {
    "tags": []
   },
   "outputs": [
    {
     "data": {
      "text/plain": [
       "(203905, 24)"
      ]
     },
     "execution_count": 22,
     "metadata": {},
     "output_type": "execute_result"
    }
   ],
   "source": [
    "train_y.shape"
   ]
  },
  {
   "cell_type": "code",
   "execution_count": 24,
   "id": "b3664992-6986-4260-a887-20b1bfad522e",
   "metadata": {
    "tags": []
   },
   "outputs": [
    {
     "data": {
      "text/plain": [
       "array([[1203.84, 1119.36, 1026.72, ..., 1733.76, 1414.08, 1191.84],\n",
       "       [1119.36, 1026.72,  992.64, ..., 1414.08, 1191.84,  963.36],\n",
       "       [1026.72,  992.64, 1022.88, ..., 1191.84,  963.36,  872.16],\n",
       "       ...,\n",
       "       [ 737.76,  610.32,  457.68, ...,  881.04,  798.96,  825.12],\n",
       "       [ 610.32,  457.68,  406.56, ...,  798.96,  825.12,  640.08],\n",
       "       [ 457.68,  406.56,  392.64, ...,  825.12,  640.08,  540.24]],\n",
       "      dtype=float32)"
      ]
     },
     "execution_count": 24,
     "metadata": {},
     "output_type": "execute_result"
    }
   ],
   "source": [
    "train_y"
   ]
  },
  {
   "cell_type": "code",
   "execution_count": 25,
   "id": "eb652a49-f278-43d0-8af9-d638bb6fbd54",
   "metadata": {
    "tags": []
   },
   "outputs": [],
   "source": [
    "train_dl = DataLoader(train_x, batch_size = batch_size, shuffle=True,)"
   ]
  },
  {
   "cell_type": "code",
   "execution_count": 26,
   "id": "66c19b88-e389-45a3-8db0-e5fdd5cd0b09",
   "metadata": {
    "tags": []
   },
   "outputs": [
    {
     "data": {
      "text/plain": [
       "<torch.utils.data.dataloader.DataLoader at 0x7f46c00e6740>"
      ]
     },
     "execution_count": 26,
     "metadata": {},
     "output_type": "execute_result"
    }
   ],
   "source": [
    "train_dl"
   ]
  },
  {
   "cell_type": "code",
   "execution_count": 27,
   "id": "3a35e4da-2e15-49f3-b029-83606ae3cd0e",
   "metadata": {
    "tags": []
   },
   "outputs": [],
   "source": [
    "train_loss_list = []\n",
    "valid_loss_list = []\n",
    "#test_loss_list = []\n",
    "epoch = 50\n",
    "lr = 0.001\n",
    "DLinear_model = LTSF_Linear(\n",
    "                            window_size=window_size,\n",
    "                            forcast_size=forcast_size,\n",
    "#                            kernel_size=25,\n",
    "                            individual=False,\n",
    "                            feature_size=1,\n",
    "                            )\n",
    "criterion = torch.nn.MSELoss()\n",
    "optimizer = torch.optim.Adam(DLinear_model.parameters(), lr=lr)\n",
    "max_loss = 999999999"
   ]
  },
  {
   "cell_type": "code",
   "execution_count": 28,
   "id": "48690b1a-a7c3-45c6-9737-89a303982d44",
   "metadata": {
    "tags": []
   },
   "outputs": [
    {
     "data": {
      "application/vnd.jupyter.widget-view+json": {
       "model_id": "bf62a115947243c99adad5bfc1370eed",
       "version_major": 2,
       "version_minor": 0
      },
      "text/plain": [
       "  0%|          | 0/50 [00:00<?, ?it/s]"
      ]
     },
     "metadata": {},
     "output_type": "display_data"
    },
    {
     "ename": "ValueError",
     "evalue": "too many values to unpack (expected 2)",
     "output_type": "error",
     "traceback": [
      "\u001b[0;31m---------------------------------------------------------------------------\u001b[0m",
      "\u001b[0;31mValueError\u001b[0m                                Traceback (most recent call last)",
      "Cell \u001b[0;32mIn[28], line 4\u001b[0m\n\u001b[1;32m      2\u001b[0m loss_list \u001b[38;5;241m=\u001b[39m []\n\u001b[1;32m      3\u001b[0m DLinear_model\u001b[38;5;241m.\u001b[39mtrain()\n\u001b[0;32m----> 4\u001b[0m \u001b[38;5;28;01mfor\u001b[39;00m batch_idx, (data, target) \u001b[38;5;129;01min\u001b[39;00m \u001b[38;5;28menumerate\u001b[39m(train_dl):\n\u001b[1;32m      5\u001b[0m     optimizer\u001b[38;5;241m.\u001b[39mzero_grad()\n\u001b[1;32m      6\u001b[0m     output \u001b[38;5;241m=\u001b[39m DLinear_model(data)\n",
      "\u001b[0;31mValueError\u001b[0m: too many values to unpack (expected 2)"
     ]
    }
   ],
   "source": [
    "for epoch in tqdm(range(1, epoch+1)):\n",
    "    loss_list = []\n",
    "    DLinear_model.train()\n",
    "    for batch_idx, (data, target) in enumerate(train_dl):\n",
    "        optimizer.zero_grad()\n",
    "        output = DLinear_model(data)\n",
    "        loss = criterion(output, target.unsqueeze(-1))\n",
    "        loss.backward()\n",
    "        optimizer.step()\n",
    "        loss_list.append(loss.item())    \n",
    "    train_loss_list.append(np.mean(loss_list))\n",
    "\n",
    "    DLinear_model.eval()\n",
    "    with torch.no_grad():\n",
    "        for data, target in valid_dl:\n",
    "            output = DLinear_model(data)\n",
    "            valid_loss = criterion(output, target.unsqueeze(-1))\n",
    "            valid_loss_list.append(valid_loss)\n",
    "        \n",
    " #       for data, target in test_dl:\n",
    " #           output = DLinear_model(data)\n",
    " #           test_loss = criterion(output, target.unsqueeze(-1))\n",
    " #           test_loss_list.append(test_loss)\n",
    "\n",
    "    if valid_loss < max_loss:\n",
    "        torch.save(DLinear_model, 'DLinear_model.pth')\n",
    "        max_loss = valid_loss\n",
    "        print(\"valid_loss={:.3f}, Model Save\".format(valid_loss))\n",
    "        dlinear_best_epoch = epoch\n",
    "        dlinear_best_train_loss = np.mean(loss_list)\n",
    "        dlinear_best_valid_loss = np.mean(valid_loss.item())\n",
    "        #dlinear_best_test_loss = np.mean(test_loss.item())\n",
    "\n",
    "    print(\"epoch = {}, train_loss : {:.3f}, valid_loss : {:.3f}\".format(epoch, np.mean(loss_list), valid_loss)) #, test_loss : {:.3f} , test_loss\n"
   ]
  },
  {
   "cell_type": "code",
   "execution_count": null,
   "id": "0cd960ad-320f-4435-bfc3-aa0a4b7c3023",
   "metadata": {},
   "outputs": [],
   "source": []
  }
 ],
 "metadata": {
  "kernelspec": {
   "display_name": "deep",
   "language": "python",
   "name": "deep"
  },
  "language_info": {
   "codemirror_mode": {
    "name": "ipython",
    "version": 3
   },
   "file_extension": ".py",
   "mimetype": "text/x-python",
   "name": "python",
   "nbconvert_exporter": "python",
   "pygments_lexer": "ipython3",
   "version": "3.10.14"
  }
 },
 "nbformat": 4,
 "nbformat_minor": 5
}
