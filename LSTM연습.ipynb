{
 "cells": [
  {
   "cell_type": "markdown",
   "id": "bb950ba0-2938-4024-bb84-b8ea19efc517",
   "metadata": {},
   "source": [
    "# 기본 LSTM 코드"
   ]
  },
  {
   "cell_type": "code",
   "execution_count": 46,
   "id": "89cd1eb4-6231-4a1c-8f16-c9819e8d93d3",
   "metadata": {
    "tags": []
   },
   "outputs": [],
   "source": [
    "import pandas as pd\n",
    "import numpy as np\n",
    "import random\n",
    "import os\n",
    "\n",
    "from sklearn.preprocessing import MinMaxScaler\n",
    "from sklearn.preprocessing import LabelEncoder\n",
    "\n",
    "import torch\n",
    "import torch.nn as nn\n",
    "from torch.utils.data import Dataset, DataLoader \n",
    "\n",
    "from tqdm.auto import tqdm"
   ]
  },
  {
   "cell_type": "code",
   "execution_count": 47,
   "id": "b44cca82-52b8-461a-9d78-04ae86f56655",
   "metadata": {
    "tags": []
   },
   "outputs": [],
   "source": [
    "def seed_everything(seed):\n",
    "    random.seed(seed)\n",
    "    os.environ['PYTHONHASHSEED'] = str(seed)\n",
    "    np.random.seed(seed)\n",
    "    torch.manual_seed(seed)\n",
    "    torch.cuda.manual_seed(seed)\n",
    "    torch.backends.cudnn.deterministic = True\n",
    "    torch.backends.cudnn.benchmark = True\n",
    "\n",
    "seed_everything(42) # Seed 고정"
   ]
  },
  {
   "cell_type": "code",
   "execution_count": 48,
   "id": "f0212898-29c9-4af2-b8ef-a24e8ffa24ec",
   "metadata": {
    "tags": []
   },
   "outputs": [],
   "source": [
    "train_df = pd.read_csv('./train.csv')\n",
    "test_df = pd.read_csv('./test.csv')\n",
    "sample_submission = pd.read_csv('./sample_submission.csv')"
   ]
  },
  {
   "cell_type": "code",
   "execution_count": 49,
   "id": "55ae34bf-3d25-42de-8a56-9fc71737e5cb",
   "metadata": {
    "tags": []
   },
   "outputs": [
    {
     "name": "stdout",
     "output_type": "stream",
     "text": [
      "<class 'pandas.core.frame.DataFrame'>\n",
      "RangeIndex: 204000 entries, 0 to 203999\n",
      "Data columns (total 10 columns):\n",
      " #   Column         Non-Null Count   Dtype  \n",
      "---  ------         --------------   -----  \n",
      " 0   num_date_time  204000 non-null  object \n",
      " 1   건물번호           204000 non-null  int64  \n",
      " 2   일시             204000 non-null  object \n",
      " 3   기온(C)          204000 non-null  float64\n",
      " 4   강수량(mm)        43931 non-null   float64\n",
      " 5   풍속(m/s)        203981 non-null  float64\n",
      " 6   습도(%)          203991 non-null  float64\n",
      " 7   일조(hr)         128818 non-null  float64\n",
      " 8   일사(MJ/m2)      116087 non-null  float64\n",
      " 9   전력소비량(kWh)     204000 non-null  float64\n",
      "dtypes: float64(7), int64(1), object(2)\n",
      "memory usage: 15.6+ MB\n"
     ]
    }
   ],
   "source": [
    "train_df.info()"
   ]
  },
  {
   "cell_type": "code",
   "execution_count": 50,
   "id": "69818d4d-ab47-46d4-9232-158a6f957345",
   "metadata": {
    "tags": []
   },
   "outputs": [
    {
     "data": {
      "text/html": [
       "<div>\n",
       "<style scoped>\n",
       "    .dataframe tbody tr th:only-of-type {\n",
       "        vertical-align: middle;\n",
       "    }\n",
       "\n",
       "    .dataframe tbody tr th {\n",
       "        vertical-align: top;\n",
       "    }\n",
       "\n",
       "    .dataframe thead th {\n",
       "        text-align: right;\n",
       "    }\n",
       "</style>\n",
       "<table border=\"1\" class=\"dataframe\">\n",
       "  <thead>\n",
       "    <tr style=\"text-align: right;\">\n",
       "      <th></th>\n",
       "      <th>num_date_time</th>\n",
       "      <th>건물번호</th>\n",
       "      <th>일시</th>\n",
       "      <th>기온(C)</th>\n",
       "      <th>강수량(mm)</th>\n",
       "      <th>풍속(m/s)</th>\n",
       "      <th>습도(%)</th>\n",
       "      <th>전력소비량(kWh)</th>\n",
       "    </tr>\n",
       "  </thead>\n",
       "  <tbody>\n",
       "    <tr>\n",
       "      <th>0</th>\n",
       "      <td>1_20220601 00</td>\n",
       "      <td>1</td>\n",
       "      <td>20220601 00</td>\n",
       "      <td>18.6</td>\n",
       "      <td>NaN</td>\n",
       "      <td>0.9</td>\n",
       "      <td>42.0</td>\n",
       "      <td>1085.28</td>\n",
       "    </tr>\n",
       "    <tr>\n",
       "      <th>1</th>\n",
       "      <td>1_20220601 01</td>\n",
       "      <td>1</td>\n",
       "      <td>20220601 01</td>\n",
       "      <td>18.0</td>\n",
       "      <td>NaN</td>\n",
       "      <td>1.1</td>\n",
       "      <td>45.0</td>\n",
       "      <td>1047.36</td>\n",
       "    </tr>\n",
       "    <tr>\n",
       "      <th>2</th>\n",
       "      <td>1_20220601 02</td>\n",
       "      <td>1</td>\n",
       "      <td>20220601 02</td>\n",
       "      <td>17.7</td>\n",
       "      <td>NaN</td>\n",
       "      <td>1.5</td>\n",
       "      <td>45.0</td>\n",
       "      <td>974.88</td>\n",
       "    </tr>\n",
       "    <tr>\n",
       "      <th>3</th>\n",
       "      <td>1_20220601 03</td>\n",
       "      <td>1</td>\n",
       "      <td>20220601 03</td>\n",
       "      <td>16.7</td>\n",
       "      <td>NaN</td>\n",
       "      <td>1.4</td>\n",
       "      <td>48.0</td>\n",
       "      <td>953.76</td>\n",
       "    </tr>\n",
       "    <tr>\n",
       "      <th>4</th>\n",
       "      <td>1_20220601 04</td>\n",
       "      <td>1</td>\n",
       "      <td>20220601 04</td>\n",
       "      <td>18.4</td>\n",
       "      <td>NaN</td>\n",
       "      <td>2.8</td>\n",
       "      <td>43.0</td>\n",
       "      <td>986.40</td>\n",
       "    </tr>\n",
       "  </tbody>\n",
       "</table>\n",
       "</div>"
      ],
      "text/plain": [
       "   num_date_time  건물번호           일시  기온(C)  강수량(mm)  풍속(m/s)  습도(%)  \\\n",
       "0  1_20220601 00     1  20220601 00   18.6      NaN      0.9   42.0   \n",
       "1  1_20220601 01     1  20220601 01   18.0      NaN      1.1   45.0   \n",
       "2  1_20220601 02     1  20220601 02   17.7      NaN      1.5   45.0   \n",
       "3  1_20220601 03     1  20220601 03   16.7      NaN      1.4   48.0   \n",
       "4  1_20220601 04     1  20220601 04   18.4      NaN      2.8   43.0   \n",
       "\n",
       "   전력소비량(kWh)  \n",
       "0     1085.28  \n",
       "1     1047.36  \n",
       "2      974.88  \n",
       "3      953.76  \n",
       "4      986.40  "
      ]
     },
     "execution_count": 50,
     "metadata": {},
     "output_type": "execute_result"
    }
   ],
   "source": [
    "# 일조, 일사 열 제거\n",
    "train_df = train_df.drop(['일조(hr)','일사(MJ/m2)'], axis=1)\n",
    "train_df.head()\n"
   ]
  },
  {
   "cell_type": "code",
   "execution_count": 51,
   "id": "c169a531-ac29-4b5a-b0ea-4039f30dfbb1",
   "metadata": {
    "tags": []
   },
   "outputs": [
    {
     "data": {
      "text/plain": [
       "num_date_time         0\n",
       "건물번호                  0\n",
       "일시                    0\n",
       "기온(C)                 0\n",
       "강수량(mm)          160069\n",
       "풍속(m/s)              19\n",
       "습도(%)                 9\n",
       "전력소비량(kWh)            0\n",
       "dtype: int64"
      ]
     },
     "execution_count": 51,
     "metadata": {},
     "output_type": "execute_result"
    }
   ],
   "source": [
    "train_df.isna().sum()"
   ]
  },
  {
   "cell_type": "code",
   "execution_count": 52,
   "id": "eeacb090-30b9-4a4a-8767-ee89062c0692",
   "metadata": {
    "tags": []
   },
   "outputs": [],
   "source": [
    "# 강수량 결측치 0.0으로 채우기\n",
    "train_df['강수량(mm)'].fillna(0.0, inplace=True)\n",
    "\n",
    "# 풍속, 습도 결측치 평균으로 채우고 반올림하기\n",
    "train_df['풍속(m/s)'].fillna(round(train_df['풍속(m/s)'].mean(),2), inplace=True)\n",
    "train_df['습도(%)'].fillna(round(train_df['습도(%)'].mean(),2), inplace=True)"
   ]
  },
  {
   "cell_type": "code",
   "execution_count": 53,
   "id": "bcaf770e-458b-49b1-aa47-ec48dda57a65",
   "metadata": {
    "tags": []
   },
   "outputs": [],
   "source": [
    "train_df['month'] = train_df['일시'].apply(lambda x : float(x[4:6]))\n",
    "train_df['day'] = train_df['일시'].apply(lambda x : float(x[6:8]))\n",
    "train_df['time'] = train_df['일시'].apply(lambda x : float(x[9:11]))"
   ]
  },
  {
   "cell_type": "code",
   "execution_count": 97,
   "id": "c995ceff-b191-48bd-9ea3-96fb1630f18d",
   "metadata": {
    "tags": []
   },
   "outputs": [
    {
     "data": {
      "text/html": [
       "<div>\n",
       "<style scoped>\n",
       "    .dataframe tbody tr th:only-of-type {\n",
       "        vertical-align: middle;\n",
       "    }\n",
       "\n",
       "    .dataframe tbody tr th {\n",
       "        vertical-align: top;\n",
       "    }\n",
       "\n",
       "    .dataframe thead th {\n",
       "        text-align: right;\n",
       "    }\n",
       "</style>\n",
       "<table border=\"1\" class=\"dataframe\">\n",
       "  <thead>\n",
       "    <tr style=\"text-align: right;\">\n",
       "      <th></th>\n",
       "      <th>num_date_time</th>\n",
       "      <th>건물번호</th>\n",
       "      <th>일시</th>\n",
       "      <th>기온(C)</th>\n",
       "      <th>강수량(mm)</th>\n",
       "      <th>풍속(m/s)</th>\n",
       "      <th>습도(%)</th>\n",
       "      <th>day</th>\n",
       "      <th>time</th>\n",
       "      <th>전력소비량(kWh)</th>\n",
       "      <th>month</th>\n",
       "    </tr>\n",
       "  </thead>\n",
       "  <tbody>\n",
       "    <tr>\n",
       "      <th>0</th>\n",
       "      <td>1_20220601 00</td>\n",
       "      <td>1</td>\n",
       "      <td>20220601 00</td>\n",
       "      <td>18.6</td>\n",
       "      <td>0.0</td>\n",
       "      <td>0.9</td>\n",
       "      <td>42.0</td>\n",
       "      <td>1.0</td>\n",
       "      <td>0.0</td>\n",
       "      <td>1085.28</td>\n",
       "      <td>6.0</td>\n",
       "    </tr>\n",
       "    <tr>\n",
       "      <th>1</th>\n",
       "      <td>1_20220601 01</td>\n",
       "      <td>1</td>\n",
       "      <td>20220601 01</td>\n",
       "      <td>18.0</td>\n",
       "      <td>0.0</td>\n",
       "      <td>1.1</td>\n",
       "      <td>45.0</td>\n",
       "      <td>1.0</td>\n",
       "      <td>1.0</td>\n",
       "      <td>1047.36</td>\n",
       "      <td>6.0</td>\n",
       "    </tr>\n",
       "    <tr>\n",
       "      <th>2</th>\n",
       "      <td>1_20220601 02</td>\n",
       "      <td>1</td>\n",
       "      <td>20220601 02</td>\n",
       "      <td>17.7</td>\n",
       "      <td>0.0</td>\n",
       "      <td>1.5</td>\n",
       "      <td>45.0</td>\n",
       "      <td>1.0</td>\n",
       "      <td>2.0</td>\n",
       "      <td>974.88</td>\n",
       "      <td>6.0</td>\n",
       "    </tr>\n",
       "    <tr>\n",
       "      <th>3</th>\n",
       "      <td>1_20220601 03</td>\n",
       "      <td>1</td>\n",
       "      <td>20220601 03</td>\n",
       "      <td>16.7</td>\n",
       "      <td>0.0</td>\n",
       "      <td>1.4</td>\n",
       "      <td>48.0</td>\n",
       "      <td>1.0</td>\n",
       "      <td>3.0</td>\n",
       "      <td>953.76</td>\n",
       "      <td>6.0</td>\n",
       "    </tr>\n",
       "    <tr>\n",
       "      <th>4</th>\n",
       "      <td>1_20220601 04</td>\n",
       "      <td>1</td>\n",
       "      <td>20220601 04</td>\n",
       "      <td>18.4</td>\n",
       "      <td>0.0</td>\n",
       "      <td>2.8</td>\n",
       "      <td>43.0</td>\n",
       "      <td>1.0</td>\n",
       "      <td>4.0</td>\n",
       "      <td>986.40</td>\n",
       "      <td>6.0</td>\n",
       "    </tr>\n",
       "  </tbody>\n",
       "</table>\n",
       "</div>"
      ],
      "text/plain": [
       "   num_date_time  건물번호           일시  기온(C)  강수량(mm)  풍속(m/s)  습도(%)  day  \\\n",
       "0  1_20220601 00     1  20220601 00   18.6      0.0      0.9   42.0  1.0   \n",
       "1  1_20220601 01     1  20220601 01   18.0      0.0      1.1   45.0  1.0   \n",
       "2  1_20220601 02     1  20220601 02   17.7      0.0      1.5   45.0  1.0   \n",
       "3  1_20220601 03     1  20220601 03   16.7      0.0      1.4   48.0  1.0   \n",
       "4  1_20220601 04     1  20220601 04   18.4      0.0      2.8   43.0  1.0   \n",
       "\n",
       "   time  전력소비량(kWh)  month  \n",
       "0   0.0     1085.28    6.0  \n",
       "1   1.0     1047.36    6.0  \n",
       "2   2.0      974.88    6.0  \n",
       "3   3.0      953.76    6.0  \n",
       "4   4.0      986.40    6.0  "
      ]
     },
     "execution_count": 97,
     "metadata": {},
     "output_type": "execute_result"
    }
   ],
   "source": [
    "# 순서 재배치\n",
    "train_df = train_df[train_df.columns[:7].to_list() + train_df.columns[8:].to_list() + train_df.columns[7:8].to_list()]\n",
    "train_df.head()"
   ]
  },
  {
   "cell_type": "code",
   "execution_count": 98,
   "id": "ee68e766-fa7d-4999-a0b3-6e8b40f073b3",
   "metadata": {
    "tags": []
   },
   "outputs": [],
   "source": [
    "df = train_df.copy()\n",
    "#df"
   ]
  },
  {
   "cell_type": "code",
   "execution_count": 99,
   "id": "c7687560-cbef-4347-9e9c-b6df99a87006",
   "metadata": {
    "tags": []
   },
   "outputs": [],
   "source": [
    "df = train_df.copy()\n",
    "df.rename(columns={'num_date_time': 'date_time'}, inplace=True)\n"
   ]
  },
  {
   "cell_type": "code",
   "execution_count": 100,
   "id": "9b1c2def-44be-4b0a-8edf-817acb44207a",
   "metadata": {
    "tags": []
   },
   "outputs": [],
   "source": [
    "\n",
    "df['date_time'] = df['date_time'].str.replace('.*_', '', regex=True)\n"
   ]
  },
  {
   "cell_type": "code",
   "execution_count": 101,
   "id": "9ccc7843-414c-4729-b01a-d0d6fbfae4a8",
   "metadata": {
    "tags": []
   },
   "outputs": [
    {
     "data": {
      "text/html": [
       "<div>\n",
       "<style scoped>\n",
       "    .dataframe tbody tr th:only-of-type {\n",
       "        vertical-align: middle;\n",
       "    }\n",
       "\n",
       "    .dataframe tbody tr th {\n",
       "        vertical-align: top;\n",
       "    }\n",
       "\n",
       "    .dataframe thead th {\n",
       "        text-align: right;\n",
       "    }\n",
       "</style>\n",
       "<table border=\"1\" class=\"dataframe\">\n",
       "  <thead>\n",
       "    <tr style=\"text-align: right;\">\n",
       "      <th></th>\n",
       "      <th>date_time</th>\n",
       "      <th>건물번호</th>\n",
       "      <th>일시</th>\n",
       "      <th>기온(C)</th>\n",
       "      <th>강수량(mm)</th>\n",
       "      <th>풍속(m/s)</th>\n",
       "      <th>습도(%)</th>\n",
       "      <th>day</th>\n",
       "      <th>time</th>\n",
       "      <th>전력소비량(kWh)</th>\n",
       "      <th>month</th>\n",
       "    </tr>\n",
       "  </thead>\n",
       "  <tbody>\n",
       "    <tr>\n",
       "      <th>0</th>\n",
       "      <td>20220601 00</td>\n",
       "      <td>1</td>\n",
       "      <td>20220601 00</td>\n",
       "      <td>18.6</td>\n",
       "      <td>0.0</td>\n",
       "      <td>0.9</td>\n",
       "      <td>42.0</td>\n",
       "      <td>1.0</td>\n",
       "      <td>0.0</td>\n",
       "      <td>1085.28</td>\n",
       "      <td>6.0</td>\n",
       "    </tr>\n",
       "    <tr>\n",
       "      <th>1</th>\n",
       "      <td>20220601 01</td>\n",
       "      <td>1</td>\n",
       "      <td>20220601 01</td>\n",
       "      <td>18.0</td>\n",
       "      <td>0.0</td>\n",
       "      <td>1.1</td>\n",
       "      <td>45.0</td>\n",
       "      <td>1.0</td>\n",
       "      <td>1.0</td>\n",
       "      <td>1047.36</td>\n",
       "      <td>6.0</td>\n",
       "    </tr>\n",
       "    <tr>\n",
       "      <th>2</th>\n",
       "      <td>20220601 02</td>\n",
       "      <td>1</td>\n",
       "      <td>20220601 02</td>\n",
       "      <td>17.7</td>\n",
       "      <td>0.0</td>\n",
       "      <td>1.5</td>\n",
       "      <td>45.0</td>\n",
       "      <td>1.0</td>\n",
       "      <td>2.0</td>\n",
       "      <td>974.88</td>\n",
       "      <td>6.0</td>\n",
       "    </tr>\n",
       "    <tr>\n",
       "      <th>3</th>\n",
       "      <td>20220601 03</td>\n",
       "      <td>1</td>\n",
       "      <td>20220601 03</td>\n",
       "      <td>16.7</td>\n",
       "      <td>0.0</td>\n",
       "      <td>1.4</td>\n",
       "      <td>48.0</td>\n",
       "      <td>1.0</td>\n",
       "      <td>3.0</td>\n",
       "      <td>953.76</td>\n",
       "      <td>6.0</td>\n",
       "    </tr>\n",
       "    <tr>\n",
       "      <th>4</th>\n",
       "      <td>20220601 04</td>\n",
       "      <td>1</td>\n",
       "      <td>20220601 04</td>\n",
       "      <td>18.4</td>\n",
       "      <td>0.0</td>\n",
       "      <td>2.8</td>\n",
       "      <td>43.0</td>\n",
       "      <td>1.0</td>\n",
       "      <td>4.0</td>\n",
       "      <td>986.40</td>\n",
       "      <td>6.0</td>\n",
       "    </tr>\n",
       "    <tr>\n",
       "      <th>...</th>\n",
       "      <td>...</td>\n",
       "      <td>...</td>\n",
       "      <td>...</td>\n",
       "      <td>...</td>\n",
       "      <td>...</td>\n",
       "      <td>...</td>\n",
       "      <td>...</td>\n",
       "      <td>...</td>\n",
       "      <td>...</td>\n",
       "      <td>...</td>\n",
       "      <td>...</td>\n",
       "    </tr>\n",
       "    <tr>\n",
       "      <th>203995</th>\n",
       "      <td>20220824 19</td>\n",
       "      <td>100</td>\n",
       "      <td>20220824 19</td>\n",
       "      <td>23.1</td>\n",
       "      <td>0.0</td>\n",
       "      <td>0.9</td>\n",
       "      <td>86.0</td>\n",
       "      <td>24.0</td>\n",
       "      <td>19.0</td>\n",
       "      <td>881.04</td>\n",
       "      <td>8.0</td>\n",
       "    </tr>\n",
       "    <tr>\n",
       "      <th>203996</th>\n",
       "      <td>20220824 20</td>\n",
       "      <td>100</td>\n",
       "      <td>20220824 20</td>\n",
       "      <td>22.4</td>\n",
       "      <td>0.0</td>\n",
       "      <td>1.3</td>\n",
       "      <td>86.0</td>\n",
       "      <td>24.0</td>\n",
       "      <td>20.0</td>\n",
       "      <td>798.96</td>\n",
       "      <td>8.0</td>\n",
       "    </tr>\n",
       "    <tr>\n",
       "      <th>203997</th>\n",
       "      <td>20220824 21</td>\n",
       "      <td>100</td>\n",
       "      <td>20220824 21</td>\n",
       "      <td>21.3</td>\n",
       "      <td>0.0</td>\n",
       "      <td>1.0</td>\n",
       "      <td>92.0</td>\n",
       "      <td>24.0</td>\n",
       "      <td>21.0</td>\n",
       "      <td>825.12</td>\n",
       "      <td>8.0</td>\n",
       "    </tr>\n",
       "    <tr>\n",
       "      <th>203998</th>\n",
       "      <td>20220824 22</td>\n",
       "      <td>100</td>\n",
       "      <td>20220824 22</td>\n",
       "      <td>21.0</td>\n",
       "      <td>0.0</td>\n",
       "      <td>0.3</td>\n",
       "      <td>94.0</td>\n",
       "      <td>24.0</td>\n",
       "      <td>22.0</td>\n",
       "      <td>640.08</td>\n",
       "      <td>8.0</td>\n",
       "    </tr>\n",
       "    <tr>\n",
       "      <th>203999</th>\n",
       "      <td>20220824 23</td>\n",
       "      <td>100</td>\n",
       "      <td>20220824 23</td>\n",
       "      <td>20.7</td>\n",
       "      <td>0.0</td>\n",
       "      <td>0.1</td>\n",
       "      <td>95.0</td>\n",
       "      <td>24.0</td>\n",
       "      <td>23.0</td>\n",
       "      <td>540.24</td>\n",
       "      <td>8.0</td>\n",
       "    </tr>\n",
       "  </tbody>\n",
       "</table>\n",
       "<p>204000 rows × 11 columns</p>\n",
       "</div>"
      ],
      "text/plain": [
       "          date_time  건물번호           일시  기온(C)  강수량(mm)  풍속(m/s)  습도(%)   day  \\\n",
       "0       20220601 00     1  20220601 00   18.6      0.0      0.9   42.0   1.0   \n",
       "1       20220601 01     1  20220601 01   18.0      0.0      1.1   45.0   1.0   \n",
       "2       20220601 02     1  20220601 02   17.7      0.0      1.5   45.0   1.0   \n",
       "3       20220601 03     1  20220601 03   16.7      0.0      1.4   48.0   1.0   \n",
       "4       20220601 04     1  20220601 04   18.4      0.0      2.8   43.0   1.0   \n",
       "...             ...   ...          ...    ...      ...      ...    ...   ...   \n",
       "203995  20220824 19   100  20220824 19   23.1      0.0      0.9   86.0  24.0   \n",
       "203996  20220824 20   100  20220824 20   22.4      0.0      1.3   86.0  24.0   \n",
       "203997  20220824 21   100  20220824 21   21.3      0.0      1.0   92.0  24.0   \n",
       "203998  20220824 22   100  20220824 22   21.0      0.0      0.3   94.0  24.0   \n",
       "203999  20220824 23   100  20220824 23   20.7      0.0      0.1   95.0  24.0   \n",
       "\n",
       "        time  전력소비량(kWh)  month  \n",
       "0        0.0     1085.28    6.0  \n",
       "1        1.0     1047.36    6.0  \n",
       "2        2.0      974.88    6.0  \n",
       "3        3.0      953.76    6.0  \n",
       "4        4.0      986.40    6.0  \n",
       "...      ...         ...    ...  \n",
       "203995  19.0      881.04    8.0  \n",
       "203996  20.0      798.96    8.0  \n",
       "203997  21.0      825.12    8.0  \n",
       "203998  22.0      640.08    8.0  \n",
       "203999  23.0      540.24    8.0  \n",
       "\n",
       "[204000 rows x 11 columns]"
      ]
     },
     "execution_count": 101,
     "metadata": {},
     "output_type": "execute_result"
    }
   ],
   "source": [
    "df"
   ]
  },
  {
   "cell_type": "code",
   "execution_count": 103,
   "id": "12b1a59e-8181-4255-9547-cff6653bfeed",
   "metadata": {
    "tags": []
   },
   "outputs": [],
   "source": [
    "# 데이터 변환\n",
    "\n",
    "df['date_time'] = pd.to_datetime(df['date_time'], format='%Y%m%d %H')\n"
   ]
  },
  {
   "cell_type": "code",
   "execution_count": 104,
   "id": "4a408b24-d4ed-477f-ad24-05e662d08509",
   "metadata": {
    "tags": []
   },
   "outputs": [
    {
     "name": "stdout",
     "output_type": "stream",
     "text": [
      "                  date_time  건물번호           일시  기온(C)  강수량(mm)  풍속(m/s)  \\\n",
      "0       2022-06-01 00:00:00     1  20220601 00   18.6      0.0      0.9   \n",
      "1       2022-06-01 01:00:00     1  20220601 01   18.0      0.0      1.1   \n",
      "2       2022-06-01 02:00:00     1  20220601 02   17.7      0.0      1.5   \n",
      "3       2022-06-01 03:00:00     1  20220601 03   16.7      0.0      1.4   \n",
      "4       2022-06-01 04:00:00     1  20220601 04   18.4      0.0      2.8   \n",
      "...                     ...   ...          ...    ...      ...      ...   \n",
      "203995  2022-08-24 19:00:00   100  20220824 19   23.1      0.0      0.9   \n",
      "203996  2022-08-24 20:00:00   100  20220824 20   22.4      0.0      1.3   \n",
      "203997  2022-08-24 21:00:00   100  20220824 21   21.3      0.0      1.0   \n",
      "203998  2022-08-24 22:00:00   100  20220824 22   21.0      0.0      0.3   \n",
      "203999  2022-08-24 23:00:00   100  20220824 23   20.7      0.0      0.1   \n",
      "\n",
      "        습도(%)   day  time  전력소비량(kWh)  month  \n",
      "0        42.0   1.0   0.0     1085.28    6.0  \n",
      "1        45.0   1.0   1.0     1047.36    6.0  \n",
      "2        45.0   1.0   2.0      974.88    6.0  \n",
      "3        48.0   1.0   3.0      953.76    6.0  \n",
      "4        43.0   1.0   4.0      986.40    6.0  \n",
      "...       ...   ...   ...         ...    ...  \n",
      "203995   86.0  24.0  19.0      881.04    8.0  \n",
      "203996   86.0  24.0  20.0      798.96    8.0  \n",
      "203997   92.0  24.0  21.0      825.12    8.0  \n",
      "203998   94.0  24.0  22.0      640.08    8.0  \n",
      "203999   95.0  24.0  23.0      540.24    8.0  \n",
      "\n",
      "[204000 rows x 11 columns]\n"
     ]
    }
   ],
   "source": [
    "\n",
    "\n",
    "#df['date_time'] = pd.to_datetime(df['date_time'], format='%Y%m%d %H')  # 년월일 시간 형태로 변환\n",
    "df['date_time'] = df['date_time'].dt.strftime('%Y-%m-%d %H:%M:%S')  # 원하는 형식으로 포맷\n",
    "\n",
    "print(df)"
   ]
  },
  {
   "cell_type": "code",
   "execution_count": 114,
   "id": "a01e41e4-66d4-48a7-a3cb-4f940c340865",
   "metadata": {
    "tags": []
   },
   "outputs": [],
   "source": [
    "df.set_index('date_time', inplace=True)  # 'date_time' 열을 인덱스로 설정"
   ]
  },
  {
   "cell_type": "code",
   "execution_count": 115,
   "id": "30bd1808-1077-41eb-8f01-7e33e1473364",
   "metadata": {
    "tags": []
   },
   "outputs": [
    {
     "data": {
      "text/html": [
       "<div>\n",
       "<style scoped>\n",
       "    .dataframe tbody tr th:only-of-type {\n",
       "        vertical-align: middle;\n",
       "    }\n",
       "\n",
       "    .dataframe tbody tr th {\n",
       "        vertical-align: top;\n",
       "    }\n",
       "\n",
       "    .dataframe thead th {\n",
       "        text-align: right;\n",
       "    }\n",
       "</style>\n",
       "<table border=\"1\" class=\"dataframe\">\n",
       "  <thead>\n",
       "    <tr style=\"text-align: right;\">\n",
       "      <th></th>\n",
       "      <th>건물번호</th>\n",
       "      <th>일시</th>\n",
       "      <th>기온(C)</th>\n",
       "      <th>강수량(mm)</th>\n",
       "      <th>풍속(m/s)</th>\n",
       "      <th>습도(%)</th>\n",
       "      <th>day</th>\n",
       "      <th>time</th>\n",
       "      <th>전력소비량(kWh)</th>\n",
       "      <th>month</th>\n",
       "    </tr>\n",
       "    <tr>\n",
       "      <th>date_time</th>\n",
       "      <th></th>\n",
       "      <th></th>\n",
       "      <th></th>\n",
       "      <th></th>\n",
       "      <th></th>\n",
       "      <th></th>\n",
       "      <th></th>\n",
       "      <th></th>\n",
       "      <th></th>\n",
       "      <th></th>\n",
       "    </tr>\n",
       "  </thead>\n",
       "  <tbody>\n",
       "    <tr>\n",
       "      <th>2022-06-01 00:00:00</th>\n",
       "      <td>1</td>\n",
       "      <td>20220601 00</td>\n",
       "      <td>18.6</td>\n",
       "      <td>0.0</td>\n",
       "      <td>0.9</td>\n",
       "      <td>42.0</td>\n",
       "      <td>1.0</td>\n",
       "      <td>0.0</td>\n",
       "      <td>1085.28</td>\n",
       "      <td>6.0</td>\n",
       "    </tr>\n",
       "    <tr>\n",
       "      <th>2022-06-01 01:00:00</th>\n",
       "      <td>1</td>\n",
       "      <td>20220601 01</td>\n",
       "      <td>18.0</td>\n",
       "      <td>0.0</td>\n",
       "      <td>1.1</td>\n",
       "      <td>45.0</td>\n",
       "      <td>1.0</td>\n",
       "      <td>1.0</td>\n",
       "      <td>1047.36</td>\n",
       "      <td>6.0</td>\n",
       "    </tr>\n",
       "    <tr>\n",
       "      <th>2022-06-01 02:00:00</th>\n",
       "      <td>1</td>\n",
       "      <td>20220601 02</td>\n",
       "      <td>17.7</td>\n",
       "      <td>0.0</td>\n",
       "      <td>1.5</td>\n",
       "      <td>45.0</td>\n",
       "      <td>1.0</td>\n",
       "      <td>2.0</td>\n",
       "      <td>974.88</td>\n",
       "      <td>6.0</td>\n",
       "    </tr>\n",
       "    <tr>\n",
       "      <th>2022-06-01 03:00:00</th>\n",
       "      <td>1</td>\n",
       "      <td>20220601 03</td>\n",
       "      <td>16.7</td>\n",
       "      <td>0.0</td>\n",
       "      <td>1.4</td>\n",
       "      <td>48.0</td>\n",
       "      <td>1.0</td>\n",
       "      <td>3.0</td>\n",
       "      <td>953.76</td>\n",
       "      <td>6.0</td>\n",
       "    </tr>\n",
       "    <tr>\n",
       "      <th>2022-06-01 04:00:00</th>\n",
       "      <td>1</td>\n",
       "      <td>20220601 04</td>\n",
       "      <td>18.4</td>\n",
       "      <td>0.0</td>\n",
       "      <td>2.8</td>\n",
       "      <td>43.0</td>\n",
       "      <td>1.0</td>\n",
       "      <td>4.0</td>\n",
       "      <td>986.40</td>\n",
       "      <td>6.0</td>\n",
       "    </tr>\n",
       "    <tr>\n",
       "      <th>...</th>\n",
       "      <td>...</td>\n",
       "      <td>...</td>\n",
       "      <td>...</td>\n",
       "      <td>...</td>\n",
       "      <td>...</td>\n",
       "      <td>...</td>\n",
       "      <td>...</td>\n",
       "      <td>...</td>\n",
       "      <td>...</td>\n",
       "      <td>...</td>\n",
       "    </tr>\n",
       "    <tr>\n",
       "      <th>2022-08-24 19:00:00</th>\n",
       "      <td>100</td>\n",
       "      <td>20220824 19</td>\n",
       "      <td>23.1</td>\n",
       "      <td>0.0</td>\n",
       "      <td>0.9</td>\n",
       "      <td>86.0</td>\n",
       "      <td>24.0</td>\n",
       "      <td>19.0</td>\n",
       "      <td>881.04</td>\n",
       "      <td>8.0</td>\n",
       "    </tr>\n",
       "    <tr>\n",
       "      <th>2022-08-24 20:00:00</th>\n",
       "      <td>100</td>\n",
       "      <td>20220824 20</td>\n",
       "      <td>22.4</td>\n",
       "      <td>0.0</td>\n",
       "      <td>1.3</td>\n",
       "      <td>86.0</td>\n",
       "      <td>24.0</td>\n",
       "      <td>20.0</td>\n",
       "      <td>798.96</td>\n",
       "      <td>8.0</td>\n",
       "    </tr>\n",
       "    <tr>\n",
       "      <th>2022-08-24 21:00:00</th>\n",
       "      <td>100</td>\n",
       "      <td>20220824 21</td>\n",
       "      <td>21.3</td>\n",
       "      <td>0.0</td>\n",
       "      <td>1.0</td>\n",
       "      <td>92.0</td>\n",
       "      <td>24.0</td>\n",
       "      <td>21.0</td>\n",
       "      <td>825.12</td>\n",
       "      <td>8.0</td>\n",
       "    </tr>\n",
       "    <tr>\n",
       "      <th>2022-08-24 22:00:00</th>\n",
       "      <td>100</td>\n",
       "      <td>20220824 22</td>\n",
       "      <td>21.0</td>\n",
       "      <td>0.0</td>\n",
       "      <td>0.3</td>\n",
       "      <td>94.0</td>\n",
       "      <td>24.0</td>\n",
       "      <td>22.0</td>\n",
       "      <td>640.08</td>\n",
       "      <td>8.0</td>\n",
       "    </tr>\n",
       "    <tr>\n",
       "      <th>2022-08-24 23:00:00</th>\n",
       "      <td>100</td>\n",
       "      <td>20220824 23</td>\n",
       "      <td>20.7</td>\n",
       "      <td>0.0</td>\n",
       "      <td>0.1</td>\n",
       "      <td>95.0</td>\n",
       "      <td>24.0</td>\n",
       "      <td>23.0</td>\n",
       "      <td>540.24</td>\n",
       "      <td>8.0</td>\n",
       "    </tr>\n",
       "  </tbody>\n",
       "</table>\n",
       "<p>204000 rows × 10 columns</p>\n",
       "</div>"
      ],
      "text/plain": [
       "                     건물번호           일시  기온(C)  강수량(mm)  풍속(m/s)  습도(%)   day  \\\n",
       "date_time                                                                      \n",
       "2022-06-01 00:00:00     1  20220601 00   18.6      0.0      0.9   42.0   1.0   \n",
       "2022-06-01 01:00:00     1  20220601 01   18.0      0.0      1.1   45.0   1.0   \n",
       "2022-06-01 02:00:00     1  20220601 02   17.7      0.0      1.5   45.0   1.0   \n",
       "2022-06-01 03:00:00     1  20220601 03   16.7      0.0      1.4   48.0   1.0   \n",
       "2022-06-01 04:00:00     1  20220601 04   18.4      0.0      2.8   43.0   1.0   \n",
       "...                   ...          ...    ...      ...      ...    ...   ...   \n",
       "2022-08-24 19:00:00   100  20220824 19   23.1      0.0      0.9   86.0  24.0   \n",
       "2022-08-24 20:00:00   100  20220824 20   22.4      0.0      1.3   86.0  24.0   \n",
       "2022-08-24 21:00:00   100  20220824 21   21.3      0.0      1.0   92.0  24.0   \n",
       "2022-08-24 22:00:00   100  20220824 22   21.0      0.0      0.3   94.0  24.0   \n",
       "2022-08-24 23:00:00   100  20220824 23   20.7      0.0      0.1   95.0  24.0   \n",
       "\n",
       "                     time  전력소비량(kWh)  month  \n",
       "date_time                                     \n",
       "2022-06-01 00:00:00   0.0     1085.28    6.0  \n",
       "2022-06-01 01:00:00   1.0     1047.36    6.0  \n",
       "2022-06-01 02:00:00   2.0      974.88    6.0  \n",
       "2022-06-01 03:00:00   3.0      953.76    6.0  \n",
       "2022-06-01 04:00:00   4.0      986.40    6.0  \n",
       "...                   ...         ...    ...  \n",
       "2022-08-24 19:00:00  19.0      881.04    8.0  \n",
       "2022-08-24 20:00:00  20.0      798.96    8.0  \n",
       "2022-08-24 21:00:00  21.0      825.12    8.0  \n",
       "2022-08-24 22:00:00  22.0      640.08    8.0  \n",
       "2022-08-24 23:00:00  23.0      540.24    8.0  \n",
       "\n",
       "[204000 rows x 10 columns]"
      ]
     },
     "execution_count": 115,
     "metadata": {},
     "output_type": "execute_result"
    }
   ],
   "source": [
    "df"
   ]
  },
  {
   "cell_type": "code",
   "execution_count": 123,
   "id": "d376f868-7694-4c56-8a90-a544aeefefa9",
   "metadata": {
    "tags": []
   },
   "outputs": [
    {
     "name": "stdout",
     "output_type": "stream",
     "text": [
      "                     건물번호           일시  기온(C)  강수량(mm)  풍속(m/s)  습도(%)\n",
      "date_time                                                             \n",
      "2022-08-25 00:00:00     1  20220825 00   23.5      0.0      2.2     72\n",
      "2022-08-25 01:00:00     1  20220825 01   23.0      0.0      0.9     72\n",
      "2022-08-25 02:00:00     1  20220825 02   22.7      0.0      1.5     75\n",
      "2022-08-25 03:00:00     1  20220825 03   22.1      0.0      1.3     78\n",
      "2022-08-25 04:00:00     1  20220825 04   21.8      0.0      1.0     77\n",
      "...                   ...          ...    ...      ...      ...    ...\n",
      "2022-08-31 19:00:00   100  20220831 19   22.5      0.0      0.9     84\n",
      "2022-08-31 20:00:00   100  20220831 20   20.7      0.0      0.4     95\n",
      "2022-08-31 21:00:00   100  20220831 21   20.2      0.0      0.4     98\n",
      "2022-08-31 22:00:00   100  20220831 22   20.1      0.0      1.1     97\n",
      "2022-08-31 23:00:00   100  20220831 23   19.1      0.0      0.1     99\n",
      "\n",
      "[16800 rows x 6 columns]\n"
     ]
    }
   ],
   "source": [
    "test_df.rename(columns={'num_date_time': 'date_time'}, inplace=True)\n",
    "test_df['date_time'] = test_df['date_time'].str.replace('.*_', '', regex=True)\n",
    "test_df['date_time'] = pd.to_datetime(test_df['date_time'], format='%Y%m%d %H')\n",
    "test_df['date_time'] = test_df['date_time'].dt.strftime('%Y-%m-%d %H:%M:%S')\n",
    "#test_df.set_index('date_time', inplace=True)\n",
    "print(test_df)"
   ]
  },
  {
   "cell_type": "code",
   "execution_count": 124,
   "id": "c3896948-eb6d-44cd-9228-6aa6c5dd9688",
   "metadata": {
    "tags": []
   },
   "outputs": [],
   "source": [
    "from epftoolbox.data import read_data\n",
    "from epftoolbox.models import DNN, evaluate_dnn_in_test_dataset\n",
    "import pandas as pd\n",
    "import matplotlib.pyplot as plt\n",
    "import numpy as np\n",
    "\n",
    "model = DNN(\n",
    "    experiment_id=1,\n",
    "    path_hyperparameter_folder=\"../elect/epftoolbox/examples/experimental_files/\", #기본 \"..\\\\..\\\\epftoolbox\\\\examples\\\\experimental_files\\\\\" ../../epftoolbox/examples/experimental_files/\n",
    "    nlayers=2,\n",
    "    dataset=\"PJM\",\n",
    "    years_test=2,\n",
    "    shuffle_train=True,\n",
    "    data_augmentation=0,\n",
    "    calibration_window=4,\n",
    ")\n"
   ]
  },
  {
   "cell_type": "code",
   "execution_count": 133,
   "id": "7865368f-39ee-43ab-9d8b-1fa74dbcc09a",
   "metadata": {
    "tags": []
   },
   "outputs": [
    {
     "data": {
      "text/plain": [
       "'2022-08-31 16:00:00'"
      ]
     },
     "execution_count": 133,
     "metadata": {},
     "output_type": "execute_result"
    }
   ],
   "source": [
    "test_df.index[1000]"
   ]
  },
  {
   "cell_type": "code",
   "execution_count": 138,
   "id": "a0905231-1534-4cc7-bce6-9128af16ec71",
   "metadata": {
    "tags": []
   },
   "outputs": [
    {
     "data": {
      "text/plain": [
       "<epftoolbox.models._dnn.DNN at 0x7f99870ed750>"
      ]
     },
     "execution_count": 138,
     "metadata": {},
     "output_type": "execute_result"
    }
   ],
   "source": [
    "model"
   ]
  },
  {
   "cell_type": "code",
   "execution_count": 135,
   "id": "5e8fae15-4717-4b0b-840a-c5e681004ad8",
   "metadata": {
    "tags": []
   },
   "outputs": [
    {
     "ename": "AttributeError",
     "evalue": "'DNN' object has no attribute 'model'",
     "output_type": "error",
     "traceback": [
      "\u001b[0;31m---------------------------------------------------------------------------\u001b[0m",
      "\u001b[0;31mAttributeError\u001b[0m                            Traceback (most recent call last)",
      "Cell \u001b[0;32mIn[135], line 1\u001b[0m\n\u001b[0;32m----> 1\u001b[0m \u001b[43mmodel\u001b[49m\u001b[38;5;241;43m.\u001b[39;49m\u001b[43mpredict\u001b[49m\u001b[43m(\u001b[49m\u001b[43mtest_df\u001b[49m\u001b[43m)\u001b[49m\n",
      "File \u001b[0;32m~/anaconda3/envs/deep/lib/python3.10/site-packages/epftoolbox/models/_dnn.py:553\u001b[0m, in \u001b[0;36mDNN.predict\u001b[0;34m(self, X)\u001b[0m\n\u001b[1;32m    539\u001b[0m \u001b[38;5;250m\u001b[39m\u001b[38;5;124;03m\"\"\"Method that makes a prediction using some given inputs\u001b[39;00m\n\u001b[1;32m    540\u001b[0m \u001b[38;5;124;03m\u001b[39;00m\n\u001b[1;32m    541\u001b[0m \u001b[38;5;124;03mParameters\u001b[39;00m\n\u001b[0;32m   (...)\u001b[0m\n\u001b[1;32m    549\u001b[0m \u001b[38;5;124;03m    An array containing the predictions\u001b[39;00m\n\u001b[1;32m    550\u001b[0m \u001b[38;5;124;03m\"\"\"\u001b[39;00m\n\u001b[1;32m    552\u001b[0m \u001b[38;5;66;03m# Predicting the current date using a recalibrated DNN\u001b[39;00m\n\u001b[0;32m--> 553\u001b[0m Yp \u001b[38;5;241m=\u001b[39m \u001b[38;5;28;43mself\u001b[39;49m\u001b[38;5;241;43m.\u001b[39;49m\u001b[43mmodel\u001b[49m\u001b[38;5;241m.\u001b[39mpredict(X)\u001b[38;5;241m.\u001b[39msqueeze()\n\u001b[1;32m    554\u001b[0m \u001b[38;5;28;01mif\u001b[39;00m \u001b[38;5;28mself\u001b[39m\u001b[38;5;241m.\u001b[39mbest_hyperparameters[\u001b[38;5;124m'\u001b[39m\u001b[38;5;124mscaleY\u001b[39m\u001b[38;5;124m'\u001b[39m] \u001b[38;5;129;01min\u001b[39;00m [\u001b[38;5;124m'\u001b[39m\u001b[38;5;124mNorm\u001b[39m\u001b[38;5;124m'\u001b[39m, \u001b[38;5;124m'\u001b[39m\u001b[38;5;124mNorm1\u001b[39m\u001b[38;5;124m'\u001b[39m, \u001b[38;5;124m'\u001b[39m\u001b[38;5;124mStd\u001b[39m\u001b[38;5;124m'\u001b[39m, \u001b[38;5;124m'\u001b[39m\u001b[38;5;124mMedian\u001b[39m\u001b[38;5;124m'\u001b[39m, \u001b[38;5;124m'\u001b[39m\u001b[38;5;124mInvariant\u001b[39m\u001b[38;5;124m'\u001b[39m]:\n\u001b[1;32m    555\u001b[0m     Yp \u001b[38;5;241m=\u001b[39m \u001b[38;5;28mself\u001b[39m\u001b[38;5;241m.\u001b[39mscaler\u001b[38;5;241m.\u001b[39minverse_transform(Yp\u001b[38;5;241m.\u001b[39mreshape(\u001b[38;5;241m1\u001b[39m, \u001b[38;5;241m-\u001b[39m\u001b[38;5;241m1\u001b[39m))\n",
      "\u001b[0;31mAttributeError\u001b[0m: 'DNN' object has no attribute 'model'"
     ]
    }
   ],
   "source": [
    "model.predict(test_df.loc[test_df.index[1000] - pd.Timedelta(weeks=2):, :])\n"
   ]
  },
  {
   "cell_type": "code",
   "execution_count": null,
   "id": "edccd5d8-6e77-411e-a39e-b3552d5dbcd2",
   "metadata": {},
   "outputs": [],
   "source": [
    "model.recalibrate_and_forecast_next_day(df=data_available, next_day_date='27/12/2016')\n",
    "pjm_test.index[0]\n",
    "evaluate_dnn_in_test_dataset(\n",
    "    1,\n",
    "    path_hyperparameter_folder=\"..\\\\..\\\\epftoolbox\\\\examples\\\\experimental_files\",\n",
    "    path_datasets_folder=\"..\\\\..\\\\data\\\\epftoolbox\\\\PJM\",\n",
    "    shuffle_train=True,\n",
    "    path_recalibration_folder=\"..\\\\..\\\\epftoolbox\\\\examples\\\\experimental_files\",\n",
    "    new_recalibration=True,\n",
    "    begin_test_date=\"27/12/2016\",\n",
    "    end_test_date=\"27/12/2017\",\n",
    ")"
   ]
  },
  {
   "cell_type": "code",
   "execution_count": 10,
   "id": "cde08220-a257-49d4-98d8-6be5e28aae89",
   "metadata": {
    "tags": []
   },
   "outputs": [],
   "source": [
    "# 하이퍼파라미터\n",
    "input_size = 8  # feature의 개수\n",
    "hidden_size = 64\n",
    "num_layers = 2\n",
    "output_size = 1\n",
    "num_epochs = 5\n",
    "window_size = 24  # 예측에 사용될 시간 윈도우 크기\n",
    "batch_size = 64\n",
    "learning_rate = 0.001"
   ]
  },
  {
   "cell_type": "code",
   "execution_count": 11,
   "id": "c6372e79-2c7f-4c8e-9348-5e40ea895bbf",
   "metadata": {
    "tags": []
   },
   "outputs": [],
   "source": [
    "class TimeSeriesDataset(Dataset):\n",
    "    def __init__(self, df, window_size):\n",
    "        self.df = df\n",
    "        self.window_size = window_size\n",
    "    def __len__(self):\n",
    "        return len(self.df) - self.window_size\n",
    "\n",
    "    def __getitem__(self, idx):\n",
    "        x = torch.tensor(self.df[idx:idx+self.window_size, :], dtype=torch.float)\n",
    "        if self.df.shape[1] > 1:\n",
    "            y = torch.tensor(self.df[idx+self.window_size, -1], dtype=torch.float)\n",
    "        else:\n",
    "            y = None\n",
    "        return x, y\n",
    "\n",
    "def create_data_loader(df, window_size, batch_size):\n",
    "    dataset = TimeSeriesDataset(df, window_size)\n",
    "    data_loader = DataLoader(dataset, batch_size=batch_size, shuffle=False)\n",
    "    return data_loader"
   ]
  },
  {
   "cell_type": "code",
   "execution_count": 13,
   "id": "a2921558-54f9-4136-b9cc-77cbe7e46dde",
   "metadata": {},
   "outputs": [],
   "source": [
    "# normalization\n",
    "scaler = MinMaxScaler()\n",
    "train_data = scaler.fit_transform(train_df.drop(['num_date_time', '건물번호', '일시'], axis=1).values)\n",
    "train_loader = create_data_loader(train_data, window_size, batch_size)"
   ]
  },
  {
   "cell_type": "code",
   "execution_count": 17,
   "id": "4ebdcdb5-e0b8-4891-916d-9c332bf2b77f",
   "metadata": {
    "tags": []
   },
   "outputs": [],
   "source": [
    "k = TimeSeriesDataset(train_data, window_size)"
   ]
  },
  {
   "cell_type": "code",
   "execution_count": 26,
   "id": "fcb9524e-b661-439f-9ca9-1e86bd108fba",
   "metadata": {},
   "outputs": [],
   "source": [
    "class LSTM(nn.Module):\n",
    "    def __init__(self, input_size, hidden_size, num_layers, output_size):\n",
    "        super(LSTM, self).__init__()\n",
    "\n",
    "        self.hidden_size = hidden_size\n",
    "        self.num_layers = num_layers\n",
    "\n",
    "        self.lstm = nn.LSTM(input_size, hidden_size, num_layers, batch_first=True)\n",
    "        self.fc = nn.Linear(hidden_size, output_size)\n",
    "\n",
    "    def forward(self, x):\n",
    "        h0 = torch.zeros(self.num_layers, x.size(0), self.hidden_size).to(x.device) \n",
    "        c0 = torch.zeros(self.num_layers, x.size(0), self.hidden_size).to(x.device)\n",
    "\n",
    "        out, _ = self.lstm(x, (h0, c0))\n",
    "        out = self.fc(out[:, -1, :])\n",
    "\n",
    "        return out"
   ]
  },
  {
   "cell_type": "code",
   "execution_count": 43,
   "id": "f747f789-8a29-4bca-bc64-3b96bd380eb3",
   "metadata": {
    "tags": []
   },
   "outputs": [
    {
     "data": {
      "text/plain": [
       "24"
      ]
     },
     "execution_count": 43,
     "metadata": {},
     "output_type": "execute_result"
    }
   ],
   "source": [
    "k.__getitem__(0)[0].size(0)"
   ]
  },
  {
   "cell_type": "code",
   "execution_count": 44,
   "id": "8303490c-76e3-44c7-af3d-53a0b7b540a1",
   "metadata": {
    "tags": []
   },
   "outputs": [
    {
     "name": "stdout",
     "output_type": "stream",
     "text": [
      "current device: cuda\n"
     ]
    }
   ],
   "source": [
    "device = torch.device('cuda' if torch.cuda.is_available() else 'cpu')\n",
    "print(f\"current device: {device}\")\n",
    "\n",
    "model = LSTM(input_size, hidden_size, num_layers, output_size).to(device)\n",
    "\n",
    "criterion = nn.MSELoss()\n",
    "optimizer = torch.optim.AdamW(model.parameters(), lr=learning_rate)"
   ]
  },
  {
   "cell_type": "code",
   "execution_count": 45,
   "id": "0d8dc1ec-fa0c-4432-81e1-ac3d7d800313",
   "metadata": {
    "tags": []
   },
   "outputs": [
    {
     "name": "stdout",
     "output_type": "stream",
     "text": [
      "Epoch [1/5], Step [300/3188], Loss: 0.000448\n",
      "Epoch [1/5], Step [600/3188], Loss: 0.000652\n",
      "Epoch [1/5], Step [900/3188], Loss: 0.000142\n",
      "Epoch [1/5], Step [1200/3188], Loss: 0.001297\n",
      "Epoch [1/5], Step [1500/3188], Loss: 0.017534\n",
      "Epoch [1/5], Step [1800/3188], Loss: 0.003190\n",
      "Epoch [1/5], Step [2100/3188], Loss: 0.000030\n",
      "Epoch [1/5], Step [2400/3188], Loss: 0.000093\n",
      "Epoch [1/5], Step [2700/3188], Loss: 0.000112\n",
      "Epoch [1/5], Step [3000/3188], Loss: 0.002827\n",
      "Epoch [2/5], Step [300/3188], Loss: 0.001489\n",
      "Epoch [2/5], Step [600/3188], Loss: 0.000535\n",
      "Epoch [2/5], Step [900/3188], Loss: 0.000209\n",
      "Epoch [2/5], Step [1200/3188], Loss: 0.001114\n",
      "Epoch [2/5], Step [1500/3188], Loss: 0.009415\n",
      "Epoch [2/5], Step [1800/3188], Loss: 0.000294\n",
      "Epoch [2/5], Step [2100/3188], Loss: 0.000030\n",
      "Epoch [2/5], Step [2400/3188], Loss: 0.000186\n",
      "Epoch [2/5], Step [2700/3188], Loss: 0.000098\n",
      "Epoch [2/5], Step [3000/3188], Loss: 0.000817\n",
      "Epoch [3/5], Step [300/3188], Loss: 0.000364\n",
      "Epoch [3/5], Step [600/3188], Loss: 0.000097\n",
      "Epoch [3/5], Step [900/3188], Loss: 0.000089\n",
      "Epoch [3/5], Step [1200/3188], Loss: 0.000311\n",
      "Epoch [3/5], Step [1500/3188], Loss: 0.001938\n",
      "Epoch [3/5], Step [1800/3188], Loss: 0.000160\n",
      "Epoch [3/5], Step [2100/3188], Loss: 0.000004\n",
      "Epoch [3/5], Step [2400/3188], Loss: 0.000014\n",
      "Epoch [3/5], Step [2700/3188], Loss: 0.000019\n",
      "Epoch [3/5], Step [3000/3188], Loss: 0.000059\n",
      "Epoch [4/5], Step [300/3188], Loss: 0.000107\n",
      "Epoch [4/5], Step [600/3188], Loss: 0.000057\n",
      "Epoch [4/5], Step [900/3188], Loss: 0.000067\n",
      "Epoch [4/5], Step [1200/3188], Loss: 0.000172\n",
      "Epoch [4/5], Step [1500/3188], Loss: 0.001191\n",
      "Epoch [4/5], Step [1800/3188], Loss: 0.000052\n",
      "Epoch [4/5], Step [2100/3188], Loss: 0.000002\n",
      "Epoch [4/5], Step [2400/3188], Loss: 0.000009\n",
      "Epoch [4/5], Step [2700/3188], Loss: 0.000012\n",
      "Epoch [4/5], Step [3000/3188], Loss: 0.000072\n",
      "Epoch [5/5], Step [300/3188], Loss: 0.000121\n",
      "Epoch [5/5], Step [600/3188], Loss: 0.000066\n",
      "Epoch [5/5], Step [900/3188], Loss: 0.000117\n",
      "Epoch [5/5], Step [1200/3188], Loss: 0.000155\n",
      "Epoch [5/5], Step [1500/3188], Loss: 0.000781\n",
      "Epoch [5/5], Step [1800/3188], Loss: 0.000038\n",
      "Epoch [5/5], Step [2100/3188], Loss: 0.000002\n",
      "Epoch [5/5], Step [2400/3188], Loss: 0.000007\n",
      "Epoch [5/5], Step [2700/3188], Loss: 0.000012\n",
      "Epoch [5/5], Step [3000/3188], Loss: 0.000076\n"
     ]
    }
   ],
   "source": [
    "for epoch in range(num_epochs):\n",
    "    for i, (inputs, labels) in enumerate(train_loader):\n",
    "        inputs = inputs.to(device)\n",
    "        labels = labels.unsqueeze(1).to(device)\n",
    "\n",
    "        # Forward\n",
    "        outputs = model(inputs)\n",
    "        loss = criterion(outputs, labels)\n",
    "\n",
    "        # Backward and optimize\n",
    "        optimizer.zero_grad()\n",
    "        loss.backward()\n",
    "        optimizer.step()\n",
    "\n",
    "        if (i+1) % 300 == 0:\n",
    "            print ('Epoch [{}/{}], Step [{}/{}], Loss: {:.6f}' \n",
    "                   .format(epoch+1, num_epochs, i+1, len(train_loader), loss.item()))"
   ]
  },
  {
   "cell_type": "code",
   "execution_count": null,
   "id": "e9a990eb-0dc9-4272-9515-85e928bf2d6e",
   "metadata": {},
   "outputs": [],
   "source": [
    "# 학습 데이터에서 마지막 행 가져오기\n",
    "last_train_data = train_df.drop(['num_date_time', '건물번호', '일시',], axis=1).loc[204000-24:,:]\n",
    "\n",
    "# 실수형 데이터로 변환\n",
    "test_df['습도(%)'] = test_df['습도(%)'].astype('float64')\n",
    "\n",
    "# 날짜 데이터 추가\n",
    "test_df['month'] = test_df['일시'].apply(lambda x : float(x[4:6]))\n",
    "test_df['day'] = test_df['일시'].apply(lambda x : float(x[6:8]))\n",
    "test_df['time'] = test_df['일시'].apply(lambda x : float(x[9:11]))\n",
    "\n",
    "# 전력소비량 열 생성\n",
    "final_df = pd.concat((test_df.drop(['num_date_time', '건물번호', '일시',], axis=1), pd.DataFrame(np.zeros(test_df.shape[0]))),axis=1)\n",
    "final_df = final_df.rename({0:'전력소비량(kWh)'},axis=1)"
   ]
  },
  {
   "cell_type": "code",
   "execution_count": 50,
   "id": "f3097c5e-8e34-402e-8f7c-532617c02d3b",
   "metadata": {
    "tags": []
   },
   "outputs": [
    {
     "data": {
      "text/plain": [
       "(16824, 8)"
      ]
     },
     "execution_count": 50,
     "metadata": {},
     "output_type": "execute_result"
    }
   ],
   "source": [
    "test_df = pd.concat((last_train_data, final_df)).reset_index(drop=True)\n",
    "test_data = scaler.transform(test_df.values) # train과 동일하게 scaling\n",
    "test_data.shape"
   ]
  },
  {
   "cell_type": "code",
   "execution_count": 51,
   "id": "6402f84d-7993-4e18-b8d6-932df93d536f",
   "metadata": {
    "tags": []
   },
   "outputs": [],
   "source": [
    "# Dataset & DataLoader\n",
    "test_dataset = TimeSeriesDataset(test_data, window_size)\n",
    "test_loader = DataLoader(test_dataset, batch_size=1, shuffle=False)"
   ]
  },
  {
   "cell_type": "code",
   "execution_count": 52,
   "id": "e162beab-f346-4c9c-8533-f6953949cf93",
   "metadata": {
    "tags": []
   },
   "outputs": [],
   "source": [
    "model.eval()\n",
    "\n",
    "test_predictions = []\n",
    "\n",
    "with torch.no_grad():\n",
    "    for i in range(test_data.shape[0] - window_size):\n",
    "        x = torch.Tensor(test_data[i:i+window_size,:]).to(device)\n",
    "        new_x = model(x.view(1,window_size,-1))\n",
    "        \n",
    "        test_data[i+window_size,-1] = new_x # 입력 업데이트\n",
    "        test_predictions.append(new_x.detach().cpu().numpy().item()) # 예측 결과 저장"
   ]
  },
  {
   "cell_type": "code",
   "execution_count": 53,
   "id": "6bf0e39c-7e99-40ea-9898-9c8db6f64d07",
   "metadata": {
    "tags": []
   },
   "outputs": [],
   "source": [
    "predictions = scaler.inverse_transform(test_data)[24:,-1] # 원래 scale로 복구"
   ]
  },
  {
   "cell_type": "code",
   "execution_count": 56,
   "id": "3d61f479-a8cf-4c02-b68d-8deaff16a0d5",
   "metadata": {
    "tags": []
   },
   "outputs": [
    {
     "data": {
      "text/html": [
       "<div>\n",
       "<style scoped>\n",
       "    .dataframe tbody tr th:only-of-type {\n",
       "        vertical-align: middle;\n",
       "    }\n",
       "\n",
       "    .dataframe tbody tr th {\n",
       "        vertical-align: top;\n",
       "    }\n",
       "\n",
       "    .dataframe thead th {\n",
       "        text-align: right;\n",
       "    }\n",
       "</style>\n",
       "<table border=\"1\" class=\"dataframe\">\n",
       "  <thead>\n",
       "    <tr style=\"text-align: right;\">\n",
       "      <th></th>\n",
       "      <th>num_date_time</th>\n",
       "      <th>answer</th>\n",
       "    </tr>\n",
       "  </thead>\n",
       "  <tbody>\n",
       "    <tr>\n",
       "      <th>0</th>\n",
       "      <td>1_20220825 00</td>\n",
       "      <td>488.865039</td>\n",
       "    </tr>\n",
       "    <tr>\n",
       "      <th>1</th>\n",
       "      <td>1_20220825 01</td>\n",
       "      <td>520.486610</td>\n",
       "    </tr>\n",
       "    <tr>\n",
       "      <th>2</th>\n",
       "      <td>1_20220825 02</td>\n",
       "      <td>555.244625</td>\n",
       "    </tr>\n",
       "    <tr>\n",
       "      <th>3</th>\n",
       "      <td>1_20220825 03</td>\n",
       "      <td>602.879989</td>\n",
       "    </tr>\n",
       "    <tr>\n",
       "      <th>4</th>\n",
       "      <td>1_20220825 04</td>\n",
       "      <td>680.498247</td>\n",
       "    </tr>\n",
       "  </tbody>\n",
       "</table>\n",
       "</div>"
      ],
      "text/plain": [
       "   num_date_time      answer\n",
       "0  1_20220825 00  488.865039\n",
       "1  1_20220825 01  520.486610\n",
       "2  1_20220825 02  555.244625\n",
       "3  1_20220825 03  602.879989\n",
       "4  1_20220825 04  680.498247"
      ]
     },
     "execution_count": 56,
     "metadata": {},
     "output_type": "execute_result"
    }
   ],
   "source": [
    "sample_submission['answer'] = predictions\n",
    "sample_submission.head()"
   ]
  },
  {
   "cell_type": "code",
   "execution_count": 57,
   "id": "81314f2a-9e37-479d-87de-d85eec3ad539",
   "metadata": {
    "tags": []
   },
   "outputs": [],
   "source": [
    "sample_submission.to_csv('lstm_baseline_submission.csv', index=False)"
   ]
  },
  {
   "cell_type": "code",
   "execution_count": null,
   "id": "3069c494-6879-4678-bf48-87ad43504079",
   "metadata": {},
   "outputs": [],
   "source": []
  }
 ],
 "metadata": {
  "kernelspec": {
   "display_name": "deep",
   "language": "python",
   "name": "deep"
  },
  "language_info": {
   "codemirror_mode": {
    "name": "ipython",
    "version": 3
   },
   "file_extension": ".py",
   "mimetype": "text/x-python",
   "name": "python",
   "nbconvert_exporter": "python",
   "pygments_lexer": "ipython3",
   "version": "3.10.14"
  }
 },
 "nbformat": 4,
 "nbformat_minor": 5
}
