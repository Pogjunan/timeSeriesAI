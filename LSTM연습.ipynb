{
 "cells": [
  {
   "cell_type": "markdown",
   "id": "bb950ba0-2938-4024-bb84-b8ea19efc517",
   "metadata": {},
   "source": [
    "# 기본 LSTM 코드"
   ]
  },
  {
   "cell_type": "code",
   "execution_count": 1,
   "id": "89cd1eb4-6231-4a1c-8f16-c9819e8d93d3",
   "metadata": {
    "tags": []
   },
   "outputs": [],
   "source": [
    "import pandas as pd\n",
    "import numpy as np\n",
    "import random\n",
    "import os\n",
    "\n",
    "from sklearn.preprocessing import MinMaxScaler\n",
    "from sklearn.preprocessing import LabelEncoder\n",
    "\n",
    "import torch\n",
    "import torch.nn as nn\n",
    "from torch.utils.data import Dataset, DataLoader \n",
    "\n",
    "from tqdm.auto import tqdm"
   ]
  },
  {
   "cell_type": "code",
   "execution_count": 2,
   "id": "b44cca82-52b8-461a-9d78-04ae86f56655",
   "metadata": {
    "tags": []
   },
   "outputs": [],
   "source": [
    "def seed_everything(seed):\n",
    "    random.seed(seed)\n",
    "    os.environ['PYTHONHASHSEED'] = str(seed)\n",
    "    np.random.seed(seed)\n",
    "    torch.manual_seed(seed)\n",
    "    torch.cuda.manual_seed(seed)\n",
    "    torch.backends.cudnn.deterministic = True\n",
    "    torch.backends.cudnn.benchmark = True\n",
    "\n",
    "seed_everything(42) # Seed 고정"
   ]
  },
  {
   "cell_type": "code",
   "execution_count": 3,
   "id": "f0212898-29c9-4af2-b8ef-a24e8ffa24ec",
   "metadata": {
    "tags": []
   },
   "outputs": [],
   "source": [
    "train_df = pd.read_csv('./train.csv')\n",
    "test_df = pd.read_csv('./test.csv')\n",
    "sample_submission = pd.read_csv('./sample_submission.csv')"
   ]
  },
  {
   "cell_type": "code",
   "execution_count": 4,
   "id": "55ae34bf-3d25-42de-8a56-9fc71737e5cb",
   "metadata": {
    "tags": []
   },
   "outputs": [
    {
     "name": "stdout",
     "output_type": "stream",
     "text": [
      "<class 'pandas.core.frame.DataFrame'>\n",
      "RangeIndex: 204000 entries, 0 to 203999\n",
      "Data columns (total 10 columns):\n",
      " #   Column         Non-Null Count   Dtype  \n",
      "---  ------         --------------   -----  \n",
      " 0   num_date_time  204000 non-null  object \n",
      " 1   건물번호           204000 non-null  int64  \n",
      " 2   일시             204000 non-null  object \n",
      " 3   기온(C)          204000 non-null  float64\n",
      " 4   강수량(mm)        43931 non-null   float64\n",
      " 5   풍속(m/s)        203981 non-null  float64\n",
      " 6   습도(%)          203991 non-null  float64\n",
      " 7   일조(hr)         128818 non-null  float64\n",
      " 8   일사(MJ/m2)      116087 non-null  float64\n",
      " 9   전력소비량(kWh)     204000 non-null  float64\n",
      "dtypes: float64(7), int64(1), object(2)\n",
      "memory usage: 15.6+ MB\n"
     ]
    }
   ],
   "source": [
    "train_df.info()"
   ]
  },
  {
   "cell_type": "code",
   "execution_count": 5,
   "id": "69818d4d-ab47-46d4-9232-158a6f957345",
   "metadata": {
    "tags": []
   },
   "outputs": [
    {
     "data": {
      "text/html": [
       "<div>\n",
       "<style scoped>\n",
       "    .dataframe tbody tr th:only-of-type {\n",
       "        vertical-align: middle;\n",
       "    }\n",
       "\n",
       "    .dataframe tbody tr th {\n",
       "        vertical-align: top;\n",
       "    }\n",
       "\n",
       "    .dataframe thead th {\n",
       "        text-align: right;\n",
       "    }\n",
       "</style>\n",
       "<table border=\"1\" class=\"dataframe\">\n",
       "  <thead>\n",
       "    <tr style=\"text-align: right;\">\n",
       "      <th></th>\n",
       "      <th>num_date_time</th>\n",
       "      <th>건물번호</th>\n",
       "      <th>일시</th>\n",
       "      <th>기온(C)</th>\n",
       "      <th>강수량(mm)</th>\n",
       "      <th>풍속(m/s)</th>\n",
       "      <th>습도(%)</th>\n",
       "      <th>전력소비량(kWh)</th>\n",
       "    </tr>\n",
       "  </thead>\n",
       "  <tbody>\n",
       "    <tr>\n",
       "      <th>0</th>\n",
       "      <td>1_20220601 00</td>\n",
       "      <td>1</td>\n",
       "      <td>20220601 00</td>\n",
       "      <td>18.6</td>\n",
       "      <td>NaN</td>\n",
       "      <td>0.9</td>\n",
       "      <td>42.0</td>\n",
       "      <td>1085.28</td>\n",
       "    </tr>\n",
       "    <tr>\n",
       "      <th>1</th>\n",
       "      <td>1_20220601 01</td>\n",
       "      <td>1</td>\n",
       "      <td>20220601 01</td>\n",
       "      <td>18.0</td>\n",
       "      <td>NaN</td>\n",
       "      <td>1.1</td>\n",
       "      <td>45.0</td>\n",
       "      <td>1047.36</td>\n",
       "    </tr>\n",
       "    <tr>\n",
       "      <th>2</th>\n",
       "      <td>1_20220601 02</td>\n",
       "      <td>1</td>\n",
       "      <td>20220601 02</td>\n",
       "      <td>17.7</td>\n",
       "      <td>NaN</td>\n",
       "      <td>1.5</td>\n",
       "      <td>45.0</td>\n",
       "      <td>974.88</td>\n",
       "    </tr>\n",
       "    <tr>\n",
       "      <th>3</th>\n",
       "      <td>1_20220601 03</td>\n",
       "      <td>1</td>\n",
       "      <td>20220601 03</td>\n",
       "      <td>16.7</td>\n",
       "      <td>NaN</td>\n",
       "      <td>1.4</td>\n",
       "      <td>48.0</td>\n",
       "      <td>953.76</td>\n",
       "    </tr>\n",
       "    <tr>\n",
       "      <th>4</th>\n",
       "      <td>1_20220601 04</td>\n",
       "      <td>1</td>\n",
       "      <td>20220601 04</td>\n",
       "      <td>18.4</td>\n",
       "      <td>NaN</td>\n",
       "      <td>2.8</td>\n",
       "      <td>43.0</td>\n",
       "      <td>986.40</td>\n",
       "    </tr>\n",
       "  </tbody>\n",
       "</table>\n",
       "</div>"
      ],
      "text/plain": [
       "   num_date_time  건물번호           일시  기온(C)  강수량(mm)  풍속(m/s)  습도(%)  \\\n",
       "0  1_20220601 00     1  20220601 00   18.6      NaN      0.9   42.0   \n",
       "1  1_20220601 01     1  20220601 01   18.0      NaN      1.1   45.0   \n",
       "2  1_20220601 02     1  20220601 02   17.7      NaN      1.5   45.0   \n",
       "3  1_20220601 03     1  20220601 03   16.7      NaN      1.4   48.0   \n",
       "4  1_20220601 04     1  20220601 04   18.4      NaN      2.8   43.0   \n",
       "\n",
       "   전력소비량(kWh)  \n",
       "0     1085.28  \n",
       "1     1047.36  \n",
       "2      974.88  \n",
       "3      953.76  \n",
       "4      986.40  "
      ]
     },
     "execution_count": 5,
     "metadata": {},
     "output_type": "execute_result"
    }
   ],
   "source": [
    "# 일조, 일사 열 제거\n",
    "train_df = train_df.drop(['일조(hr)','일사(MJ/m2)'], axis=1)\n",
    "train_df.head()\n"
   ]
  },
  {
   "cell_type": "code",
   "execution_count": 6,
   "id": "c169a531-ac29-4b5a-b0ea-4039f30dfbb1",
   "metadata": {
    "tags": []
   },
   "outputs": [
    {
     "data": {
      "text/plain": [
       "num_date_time         0\n",
       "건물번호                  0\n",
       "일시                    0\n",
       "기온(C)                 0\n",
       "강수량(mm)          160069\n",
       "풍속(m/s)              19\n",
       "습도(%)                 9\n",
       "전력소비량(kWh)            0\n",
       "dtype: int64"
      ]
     },
     "execution_count": 6,
     "metadata": {},
     "output_type": "execute_result"
    }
   ],
   "source": [
    "train_df.isna().sum()"
   ]
  },
  {
   "cell_type": "code",
   "execution_count": 7,
   "id": "eeacb090-30b9-4a4a-8767-ee89062c0692",
   "metadata": {
    "tags": []
   },
   "outputs": [],
   "source": [
    "# 강수량 결측치 0.0으로 채우기\n",
    "train_df['강수량(mm)'].fillna(0.0, inplace=True)\n",
    "\n",
    "# 풍속, 습도 결측치 평균으로 채우고 반올림하기\n",
    "train_df['풍속(m/s)'].fillna(round(train_df['풍속(m/s)'].mean(),2), inplace=True)\n",
    "train_df['습도(%)'].fillna(round(train_df['습도(%)'].mean(),2), inplace=True)"
   ]
  },
  {
   "cell_type": "code",
   "execution_count": 8,
   "id": "bcaf770e-458b-49b1-aa47-ec48dda57a65",
   "metadata": {
    "tags": []
   },
   "outputs": [],
   "source": [
    "train_df['month'] = train_df['일시'].apply(lambda x : float(x[4:6]))\n",
    "train_df['day'] = train_df['일시'].apply(lambda x : float(x[6:8]))\n",
    "train_df['time'] = train_df['일시'].apply(lambda x : float(x[9:11]))"
   ]
  },
  {
   "cell_type": "code",
   "execution_count": 9,
   "id": "c995ceff-b191-48bd-9ea3-96fb1630f18d",
   "metadata": {
    "tags": []
   },
   "outputs": [
    {
     "data": {
      "text/html": [
       "<div>\n",
       "<style scoped>\n",
       "    .dataframe tbody tr th:only-of-type {\n",
       "        vertical-align: middle;\n",
       "    }\n",
       "\n",
       "    .dataframe tbody tr th {\n",
       "        vertical-align: top;\n",
       "    }\n",
       "\n",
       "    .dataframe thead th {\n",
       "        text-align: right;\n",
       "    }\n",
       "</style>\n",
       "<table border=\"1\" class=\"dataframe\">\n",
       "  <thead>\n",
       "    <tr style=\"text-align: right;\">\n",
       "      <th></th>\n",
       "      <th>num_date_time</th>\n",
       "      <th>건물번호</th>\n",
       "      <th>일시</th>\n",
       "      <th>기온(C)</th>\n",
       "      <th>강수량(mm)</th>\n",
       "      <th>풍속(m/s)</th>\n",
       "      <th>습도(%)</th>\n",
       "      <th>month</th>\n",
       "      <th>day</th>\n",
       "      <th>time</th>\n",
       "      <th>전력소비량(kWh)</th>\n",
       "    </tr>\n",
       "  </thead>\n",
       "  <tbody>\n",
       "    <tr>\n",
       "      <th>0</th>\n",
       "      <td>1_20220601 00</td>\n",
       "      <td>1</td>\n",
       "      <td>20220601 00</td>\n",
       "      <td>18.6</td>\n",
       "      <td>0.0</td>\n",
       "      <td>0.9</td>\n",
       "      <td>42.0</td>\n",
       "      <td>6.0</td>\n",
       "      <td>1.0</td>\n",
       "      <td>0.0</td>\n",
       "      <td>1085.28</td>\n",
       "    </tr>\n",
       "    <tr>\n",
       "      <th>1</th>\n",
       "      <td>1_20220601 01</td>\n",
       "      <td>1</td>\n",
       "      <td>20220601 01</td>\n",
       "      <td>18.0</td>\n",
       "      <td>0.0</td>\n",
       "      <td>1.1</td>\n",
       "      <td>45.0</td>\n",
       "      <td>6.0</td>\n",
       "      <td>1.0</td>\n",
       "      <td>1.0</td>\n",
       "      <td>1047.36</td>\n",
       "    </tr>\n",
       "    <tr>\n",
       "      <th>2</th>\n",
       "      <td>1_20220601 02</td>\n",
       "      <td>1</td>\n",
       "      <td>20220601 02</td>\n",
       "      <td>17.7</td>\n",
       "      <td>0.0</td>\n",
       "      <td>1.5</td>\n",
       "      <td>45.0</td>\n",
       "      <td>6.0</td>\n",
       "      <td>1.0</td>\n",
       "      <td>2.0</td>\n",
       "      <td>974.88</td>\n",
       "    </tr>\n",
       "    <tr>\n",
       "      <th>3</th>\n",
       "      <td>1_20220601 03</td>\n",
       "      <td>1</td>\n",
       "      <td>20220601 03</td>\n",
       "      <td>16.7</td>\n",
       "      <td>0.0</td>\n",
       "      <td>1.4</td>\n",
       "      <td>48.0</td>\n",
       "      <td>6.0</td>\n",
       "      <td>1.0</td>\n",
       "      <td>3.0</td>\n",
       "      <td>953.76</td>\n",
       "    </tr>\n",
       "    <tr>\n",
       "      <th>4</th>\n",
       "      <td>1_20220601 04</td>\n",
       "      <td>1</td>\n",
       "      <td>20220601 04</td>\n",
       "      <td>18.4</td>\n",
       "      <td>0.0</td>\n",
       "      <td>2.8</td>\n",
       "      <td>43.0</td>\n",
       "      <td>6.0</td>\n",
       "      <td>1.0</td>\n",
       "      <td>4.0</td>\n",
       "      <td>986.40</td>\n",
       "    </tr>\n",
       "  </tbody>\n",
       "</table>\n",
       "</div>"
      ],
      "text/plain": [
       "   num_date_time  건물번호           일시  기온(C)  강수량(mm)  풍속(m/s)  습도(%)  month  \\\n",
       "0  1_20220601 00     1  20220601 00   18.6      0.0      0.9   42.0    6.0   \n",
       "1  1_20220601 01     1  20220601 01   18.0      0.0      1.1   45.0    6.0   \n",
       "2  1_20220601 02     1  20220601 02   17.7      0.0      1.5   45.0    6.0   \n",
       "3  1_20220601 03     1  20220601 03   16.7      0.0      1.4   48.0    6.0   \n",
       "4  1_20220601 04     1  20220601 04   18.4      0.0      2.8   43.0    6.0   \n",
       "\n",
       "   day  time  전력소비량(kWh)  \n",
       "0  1.0   0.0     1085.28  \n",
       "1  1.0   1.0     1047.36  \n",
       "2  1.0   2.0      974.88  \n",
       "3  1.0   3.0      953.76  \n",
       "4  1.0   4.0      986.40  "
      ]
     },
     "execution_count": 9,
     "metadata": {},
     "output_type": "execute_result"
    }
   ],
   "source": [
    "# 순서 재배치\n",
    "train_df = train_df[train_df.columns[:7].to_list() + train_df.columns[8:].to_list() + train_df.columns[7:8].to_list()]\n",
    "train_df.head()"
   ]
  },
  {
   "cell_type": "code",
   "execution_count": 10,
   "id": "cde08220-a257-49d4-98d8-6be5e28aae89",
   "metadata": {
    "tags": []
   },
   "outputs": [],
   "source": [
    "# 하이퍼파라미터\n",
    "input_size = 8  # feature의 개수\n",
    "hidden_size = 64\n",
    "num_layers = 2\n",
    "output_size = 1\n",
    "num_epochs = 5\n",
    "window_size = 24  # 예측에 사용될 시간 윈도우 크기\n",
    "batch_size = 64\n",
    "learning_rate = 0.001"
   ]
  },
  {
   "cell_type": "code",
   "execution_count": 11,
   "id": "c6372e79-2c7f-4c8e-9348-5e40ea895bbf",
   "metadata": {
    "tags": []
   },
   "outputs": [],
   "source": [
    "class TimeSeriesDataset(Dataset):\n",
    "    def __init__(self, df, window_size):\n",
    "        self.df = df\n",
    "        self.window_size = window_size\n",
    "    def __len__(self):\n",
    "        return len(self.df) - self.window_size\n",
    "\n",
    "    def __getitem__(self, idx):\n",
    "        x = torch.tensor(self.df[idx:idx+self.window_size, :], dtype=torch.float)\n",
    "        if self.df.shape[1] > 1:\n",
    "            y = torch.tensor(self.df[idx+self.window_size, -1], dtype=torch.float)\n",
    "        else:\n",
    "            y = None\n",
    "        return x, y\n",
    "\n",
    "def create_data_loader(df, window_size, batch_size):\n",
    "    dataset = TimeSeriesDataset(df, window_size)\n",
    "    data_loader = DataLoader(dataset, batch_size=batch_size, shuffle=False)\n",
    "    return data_loader"
   ]
  },
  {
   "cell_type": "code",
   "execution_count": 13,
   "id": "a2921558-54f9-4136-b9cc-77cbe7e46dde",
   "metadata": {},
   "outputs": [],
   "source": [
    "# normalization\n",
    "scaler = MinMaxScaler()\n",
    "train_data = scaler.fit_transform(train_df.drop(['num_date_time', '건물번호', '일시'], axis=1).values)\n",
    "train_loader = create_data_loader(train_data, window_size, batch_size)"
   ]
  },
  {
   "cell_type": "code",
   "execution_count": 17,
   "id": "4ebdcdb5-e0b8-4891-916d-9c332bf2b77f",
   "metadata": {
    "tags": []
   },
   "outputs": [],
   "source": [
    "k = TimeSeriesDataset(train_data, window_size)"
   ]
  },
  {
   "cell_type": "code",
   "execution_count": 26,
   "id": "fcb9524e-b661-439f-9ca9-1e86bd108fba",
   "metadata": {},
   "outputs": [],
   "source": [
    "class LSTM(nn.Module):\n",
    "    def __init__(self, input_size, hidden_size, num_layers, output_size):\n",
    "        super(LSTM, self).__init__()\n",
    "\n",
    "        self.hidden_size = hidden_size\n",
    "        self.num_layers = num_layers\n",
    "\n",
    "        self.lstm = nn.LSTM(input_size, hidden_size, num_layers, batch_first=True)\n",
    "        self.fc = nn.Linear(hidden_size, output_size)\n",
    "\n",
    "    def forward(self, x):\n",
    "        h0 = torch.zeros(self.num_layers, x.size(0), self.hidden_size).to(x.device) \n",
    "        c0 = torch.zeros(self.num_layers, x.size(0), self.hidden_size).to(x.device)\n",
    "\n",
    "        out, _ = self.lstm(x, (h0, c0))\n",
    "        out = self.fc(out[:, -1, :])\n",
    "\n",
    "        return out"
   ]
  },
  {
   "cell_type": "code",
   "execution_count": 43,
   "id": "f747f789-8a29-4bca-bc64-3b96bd380eb3",
   "metadata": {
    "tags": []
   },
   "outputs": [
    {
     "data": {
      "text/plain": [
       "24"
      ]
     },
     "execution_count": 43,
     "metadata": {},
     "output_type": "execute_result"
    }
   ],
   "source": [
    "k.__getitem__(0)[0].size(0)"
   ]
  },
  {
   "cell_type": "code",
   "execution_count": 44,
   "id": "8303490c-76e3-44c7-af3d-53a0b7b540a1",
   "metadata": {
    "tags": []
   },
   "outputs": [
    {
     "name": "stdout",
     "output_type": "stream",
     "text": [
      "current device: cuda\n"
     ]
    }
   ],
   "source": [
    "device = torch.device('cuda' if torch.cuda.is_available() else 'cpu')\n",
    "print(f\"current device: {device}\")\n",
    "\n",
    "model = LSTM(input_size, hidden_size, num_layers, output_size).to(device)\n",
    "\n",
    "criterion = nn.MSELoss()\n",
    "optimizer = torch.optim.AdamW(model.parameters(), lr=learning_rate)"
   ]
  },
  {
   "cell_type": "code",
   "execution_count": 45,
   "id": "0d8dc1ec-fa0c-4432-81e1-ac3d7d800313",
   "metadata": {
    "tags": []
   },
   "outputs": [
    {
     "name": "stdout",
     "output_type": "stream",
     "text": [
      "Epoch [1/5], Step [300/3188], Loss: 0.000448\n",
      "Epoch [1/5], Step [600/3188], Loss: 0.000652\n",
      "Epoch [1/5], Step [900/3188], Loss: 0.000142\n",
      "Epoch [1/5], Step [1200/3188], Loss: 0.001297\n",
      "Epoch [1/5], Step [1500/3188], Loss: 0.017534\n",
      "Epoch [1/5], Step [1800/3188], Loss: 0.003190\n",
      "Epoch [1/5], Step [2100/3188], Loss: 0.000030\n",
      "Epoch [1/5], Step [2400/3188], Loss: 0.000093\n",
      "Epoch [1/5], Step [2700/3188], Loss: 0.000112\n",
      "Epoch [1/5], Step [3000/3188], Loss: 0.002827\n",
      "Epoch [2/5], Step [300/3188], Loss: 0.001489\n",
      "Epoch [2/5], Step [600/3188], Loss: 0.000535\n",
      "Epoch [2/5], Step [900/3188], Loss: 0.000209\n",
      "Epoch [2/5], Step [1200/3188], Loss: 0.001114\n",
      "Epoch [2/5], Step [1500/3188], Loss: 0.009415\n",
      "Epoch [2/5], Step [1800/3188], Loss: 0.000294\n",
      "Epoch [2/5], Step [2100/3188], Loss: 0.000030\n",
      "Epoch [2/5], Step [2400/3188], Loss: 0.000186\n",
      "Epoch [2/5], Step [2700/3188], Loss: 0.000098\n",
      "Epoch [2/5], Step [3000/3188], Loss: 0.000817\n",
      "Epoch [3/5], Step [300/3188], Loss: 0.000364\n",
      "Epoch [3/5], Step [600/3188], Loss: 0.000097\n",
      "Epoch [3/5], Step [900/3188], Loss: 0.000089\n",
      "Epoch [3/5], Step [1200/3188], Loss: 0.000311\n",
      "Epoch [3/5], Step [1500/3188], Loss: 0.001938\n",
      "Epoch [3/5], Step [1800/3188], Loss: 0.000160\n",
      "Epoch [3/5], Step [2100/3188], Loss: 0.000004\n",
      "Epoch [3/5], Step [2400/3188], Loss: 0.000014\n",
      "Epoch [3/5], Step [2700/3188], Loss: 0.000019\n",
      "Epoch [3/5], Step [3000/3188], Loss: 0.000059\n",
      "Epoch [4/5], Step [300/3188], Loss: 0.000107\n",
      "Epoch [4/5], Step [600/3188], Loss: 0.000057\n",
      "Epoch [4/5], Step [900/3188], Loss: 0.000067\n",
      "Epoch [4/5], Step [1200/3188], Loss: 0.000172\n",
      "Epoch [4/5], Step [1500/3188], Loss: 0.001191\n",
      "Epoch [4/5], Step [1800/3188], Loss: 0.000052\n",
      "Epoch [4/5], Step [2100/3188], Loss: 0.000002\n",
      "Epoch [4/5], Step [2400/3188], Loss: 0.000009\n",
      "Epoch [4/5], Step [2700/3188], Loss: 0.000012\n",
      "Epoch [4/5], Step [3000/3188], Loss: 0.000072\n",
      "Epoch [5/5], Step [300/3188], Loss: 0.000121\n",
      "Epoch [5/5], Step [600/3188], Loss: 0.000066\n",
      "Epoch [5/5], Step [900/3188], Loss: 0.000117\n",
      "Epoch [5/5], Step [1200/3188], Loss: 0.000155\n",
      "Epoch [5/5], Step [1500/3188], Loss: 0.000781\n",
      "Epoch [5/5], Step [1800/3188], Loss: 0.000038\n",
      "Epoch [5/5], Step [2100/3188], Loss: 0.000002\n",
      "Epoch [5/5], Step [2400/3188], Loss: 0.000007\n",
      "Epoch [5/5], Step [2700/3188], Loss: 0.000012\n",
      "Epoch [5/5], Step [3000/3188], Loss: 0.000076\n"
     ]
    }
   ],
   "source": [
    "for epoch in range(num_epochs):\n",
    "    for i, (inputs, labels) in enumerate(train_loader):\n",
    "        inputs = inputs.to(device)\n",
    "        labels = labels.unsqueeze(1).to(device)\n",
    "\n",
    "        # Forward\n",
    "        outputs = model(inputs)\n",
    "        loss = criterion(outputs, labels)\n",
    "\n",
    "        # Backward and optimize\n",
    "        optimizer.zero_grad()\n",
    "        loss.backward()\n",
    "        optimizer.step()\n",
    "\n",
    "        if (i+1) % 300 == 0:\n",
    "            print ('Epoch [{}/{}], Step [{}/{}], Loss: {:.6f}' \n",
    "                   .format(epoch+1, num_epochs, i+1, len(train_loader), loss.item()))"
   ]
  },
  {
   "cell_type": "code",
   "execution_count": null,
   "id": "e9a990eb-0dc9-4272-9515-85e928bf2d6e",
   "metadata": {},
   "outputs": [],
   "source": [
    "# 학습 데이터에서 마지막 행 가져오기\n",
    "last_train_data = train_df.drop(['num_date_time', '건물번호', '일시',], axis=1).loc[204000-24:,:]\n",
    "\n",
    "# 실수형 데이터로 변환\n",
    "test_df['습도(%)'] = test_df['습도(%)'].astype('float64')\n",
    "\n",
    "# 날짜 데이터 추가\n",
    "test_df['month'] = test_df['일시'].apply(lambda x : float(x[4:6]))\n",
    "test_df['day'] = test_df['일시'].apply(lambda x : float(x[6:8]))\n",
    "test_df['time'] = test_df['일시'].apply(lambda x : float(x[9:11]))\n",
    "\n",
    "# 전력소비량 열 생성\n",
    "final_df = pd.concat((test_df.drop(['num_date_time', '건물번호', '일시',], axis=1), pd.DataFrame(np.zeros(test_df.shape[0]))),axis=1)\n",
    "final_df = final_df.rename({0:'전력소비량(kWh)'},axis=1)"
   ]
  },
  {
   "cell_type": "code",
   "execution_count": 50,
   "id": "f3097c5e-8e34-402e-8f7c-532617c02d3b",
   "metadata": {
    "tags": []
   },
   "outputs": [
    {
     "data": {
      "text/plain": [
       "(16824, 8)"
      ]
     },
     "execution_count": 50,
     "metadata": {},
     "output_type": "execute_result"
    }
   ],
   "source": [
    "test_df = pd.concat((last_train_data, final_df)).reset_index(drop=True)\n",
    "test_data = scaler.transform(test_df.values) # train과 동일하게 scaling\n",
    "test_data.shape"
   ]
  },
  {
   "cell_type": "code",
   "execution_count": 51,
   "id": "6402f84d-7993-4e18-b8d6-932df93d536f",
   "metadata": {
    "tags": []
   },
   "outputs": [],
   "source": [
    "# Dataset & DataLoader\n",
    "test_dataset = TimeSeriesDataset(test_data, window_size)\n",
    "test_loader = DataLoader(test_dataset, batch_size=1, shuffle=False)"
   ]
  },
  {
   "cell_type": "code",
   "execution_count": 52,
   "id": "e162beab-f346-4c9c-8533-f6953949cf93",
   "metadata": {
    "tags": []
   },
   "outputs": [],
   "source": [
    "model.eval()\n",
    "\n",
    "test_predictions = []\n",
    "\n",
    "with torch.no_grad():\n",
    "    for i in range(test_data.shape[0] - window_size):\n",
    "        x = torch.Tensor(test_data[i:i+window_size,:]).to(device)\n",
    "        new_x = model(x.view(1,window_size,-1))\n",
    "        \n",
    "        test_data[i+window_size,-1] = new_x # 입력 업데이트\n",
    "        test_predictions.append(new_x.detach().cpu().numpy().item()) # 예측 결과 저장"
   ]
  },
  {
   "cell_type": "code",
   "execution_count": 53,
   "id": "6bf0e39c-7e99-40ea-9898-9c8db6f64d07",
   "metadata": {
    "tags": []
   },
   "outputs": [],
   "source": [
    "predictions = scaler.inverse_transform(test_data)[24:,-1] # 원래 scale로 복구"
   ]
  },
  {
   "cell_type": "code",
   "execution_count": 56,
   "id": "3d61f479-a8cf-4c02-b68d-8deaff16a0d5",
   "metadata": {
    "tags": []
   },
   "outputs": [
    {
     "data": {
      "text/html": [
       "<div>\n",
       "<style scoped>\n",
       "    .dataframe tbody tr th:only-of-type {\n",
       "        vertical-align: middle;\n",
       "    }\n",
       "\n",
       "    .dataframe tbody tr th {\n",
       "        vertical-align: top;\n",
       "    }\n",
       "\n",
       "    .dataframe thead th {\n",
       "        text-align: right;\n",
       "    }\n",
       "</style>\n",
       "<table border=\"1\" class=\"dataframe\">\n",
       "  <thead>\n",
       "    <tr style=\"text-align: right;\">\n",
       "      <th></th>\n",
       "      <th>num_date_time</th>\n",
       "      <th>answer</th>\n",
       "    </tr>\n",
       "  </thead>\n",
       "  <tbody>\n",
       "    <tr>\n",
       "      <th>0</th>\n",
       "      <td>1_20220825 00</td>\n",
       "      <td>488.865039</td>\n",
       "    </tr>\n",
       "    <tr>\n",
       "      <th>1</th>\n",
       "      <td>1_20220825 01</td>\n",
       "      <td>520.486610</td>\n",
       "    </tr>\n",
       "    <tr>\n",
       "      <th>2</th>\n",
       "      <td>1_20220825 02</td>\n",
       "      <td>555.244625</td>\n",
       "    </tr>\n",
       "    <tr>\n",
       "      <th>3</th>\n",
       "      <td>1_20220825 03</td>\n",
       "      <td>602.879989</td>\n",
       "    </tr>\n",
       "    <tr>\n",
       "      <th>4</th>\n",
       "      <td>1_20220825 04</td>\n",
       "      <td>680.498247</td>\n",
       "    </tr>\n",
       "  </tbody>\n",
       "</table>\n",
       "</div>"
      ],
      "text/plain": [
       "   num_date_time      answer\n",
       "0  1_20220825 00  488.865039\n",
       "1  1_20220825 01  520.486610\n",
       "2  1_20220825 02  555.244625\n",
       "3  1_20220825 03  602.879989\n",
       "4  1_20220825 04  680.498247"
      ]
     },
     "execution_count": 56,
     "metadata": {},
     "output_type": "execute_result"
    }
   ],
   "source": [
    "sample_submission['answer'] = predictions\n",
    "sample_submission.head()"
   ]
  },
  {
   "cell_type": "code",
   "execution_count": 57,
   "id": "81314f2a-9e37-479d-87de-d85eec3ad539",
   "metadata": {
    "tags": []
   },
   "outputs": [],
   "source": [
    "sample_submission.to_csv('lstm_baseline_submission.csv', index=False)"
   ]
  },
  {
   "cell_type": "code",
   "execution_count": null,
   "id": "3069c494-6879-4678-bf48-87ad43504079",
   "metadata": {},
   "outputs": [],
   "source": []
  }
 ],
 "metadata": {
  "kernelspec": {
   "display_name": "deep",
   "language": "python",
   "name": "deep"
  },
  "language_info": {
   "codemirror_mode": {
    "name": "ipython",
    "version": 3
   },
   "file_extension": ".py",
   "mimetype": "text/x-python",
   "name": "python",
   "nbconvert_exporter": "python",
   "pygments_lexer": "ipython3",
   "version": "3.10.13"
  }
 },
 "nbformat": 4,
 "nbformat_minor": 5
}
